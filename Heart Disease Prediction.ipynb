{
 "cells": [
  {
   "cell_type": "markdown",
   "id": "e057d117",
   "metadata": {},
   "source": [
    "About Dataset\n",
    "\n",
    "Context: The leading cause of death in the developed world is heart disease. Therefore there needs to be work done to help prevent the risks of of having a heart attack or stroke.\n",
    "\n",
    "Content: Use this dataset to predict which patients are most likely to suffer from a heart disease in the near future using the features given.\n",
    "\n",
    "\n",
    "ge : Age of the patient\n",
    "\n",
    "Sex : Sex of the patient\n",
    "\n",
    "exang: exercise induced angina (1 = yes; 0 = no)\n",
    "\n",
    "ca: number of major vessels (0-3)\n",
    "\n",
    "cp : Chest Pain type chest pain type\n",
    "\n",
    "    Value 1: typical angina\n",
    "    Value 2: atypical angina\n",
    "    Value 3: non-anginal pain\n",
    "    Value 4: asymptomatic\n",
    "\n",
    "trtbps : resting blood pressure (in mm Hg)\n",
    "\n",
    "chol : cholestoral in mg/dl fetched via BMI sensor\n",
    "\n",
    "fbs : (fasting blood sugar > 120 mg/dl) (1 = true; 0 = false)\n",
    "\n",
    "rest_ecg : resting electrocardiographic results\n",
    "\n",
    "    Value 0: normal\n",
    "    Value 1: having ST-T wave abnormality (T wave inversions and/or ST elevation or depression of > 0.05 mV)\n",
    "    Value 2: showing probable or definite left ventricular hypertrophy by Estes' criteria\n",
    "\n",
    "thalach : maximum heart rate achieved\n",
    "\n",
    "target : 0= less chance of heart attack 1= more chance of heart attack"
   ]
  },
  {
   "cell_type": "code",
   "execution_count": 80,
   "id": "347a364b",
   "metadata": {},
   "outputs": [],
   "source": [
    "library(dplyr)\n",
    "library(gmodels)\n",
    "library(descr)\n",
    "library(ggplot2)"
   ]
  },
  {
   "cell_type": "code",
   "execution_count": 2,
   "id": "f8e666c9",
   "metadata": {},
   "outputs": [],
   "source": [
    "heart=read.csv(file.choose(),header = T,stringsAsFactors = T)"
   ]
  },
  {
   "cell_type": "code",
   "execution_count": 3,
   "id": "76d2a5b5",
   "metadata": {},
   "outputs": [
    {
     "data": {
      "text/html": [
       "<table>\n",
       "<thead><tr><th scope=col>ï..age</th><th scope=col>sex</th><th scope=col>cp</th><th scope=col>trestbps</th><th scope=col>chol</th><th scope=col>fbs</th><th scope=col>restecg</th><th scope=col>thalach</th><th scope=col>exang</th><th scope=col>oldpeak</th><th scope=col>slope</th><th scope=col>ca</th><th scope=col>thal</th><th scope=col>target</th></tr></thead>\n",
       "<tbody>\n",
       "\t<tr><td>63 </td><td>1  </td><td>3  </td><td>145</td><td>233</td><td>1  </td><td>0  </td><td>150</td><td>0  </td><td>2.3</td><td>0  </td><td>0  </td><td>1  </td><td>1  </td></tr>\n",
       "\t<tr><td>37 </td><td>1  </td><td>2  </td><td>130</td><td>250</td><td>0  </td><td>1  </td><td>187</td><td>0  </td><td>3.5</td><td>0  </td><td>0  </td><td>2  </td><td>1  </td></tr>\n",
       "\t<tr><td>41 </td><td>0  </td><td>1  </td><td>130</td><td>204</td><td>0  </td><td>0  </td><td>172</td><td>0  </td><td>1.4</td><td>2  </td><td>0  </td><td>2  </td><td>1  </td></tr>\n",
       "\t<tr><td>56 </td><td>1  </td><td>1  </td><td>120</td><td>236</td><td>0  </td><td>1  </td><td>178</td><td>0  </td><td>0.8</td><td>2  </td><td>0  </td><td>2  </td><td>1  </td></tr>\n",
       "\t<tr><td>57 </td><td>0  </td><td>0  </td><td>120</td><td>354</td><td>0  </td><td>1  </td><td>163</td><td>1  </td><td>0.6</td><td>2  </td><td>0  </td><td>2  </td><td>1  </td></tr>\n",
       "\t<tr><td>57 </td><td>1  </td><td>0  </td><td>140</td><td>192</td><td>0  </td><td>1  </td><td>148</td><td>0  </td><td>0.4</td><td>1  </td><td>0  </td><td>1  </td><td>1  </td></tr>\n",
       "</tbody>\n",
       "</table>\n"
      ],
      "text/latex": [
       "\\begin{tabular}{r|llllllllllllll}\n",
       " ï..age & sex & cp & trestbps & chol & fbs & restecg & thalach & exang & oldpeak & slope & ca & thal & target\\\\\n",
       "\\hline\n",
       "\t 63  & 1   & 3   & 145 & 233 & 1   & 0   & 150 & 0   & 2.3 & 0   & 0   & 1   & 1  \\\\\n",
       "\t 37  & 1   & 2   & 130 & 250 & 0   & 1   & 187 & 0   & 3.5 & 0   & 0   & 2   & 1  \\\\\n",
       "\t 41  & 0   & 1   & 130 & 204 & 0   & 0   & 172 & 0   & 1.4 & 2   & 0   & 2   & 1  \\\\\n",
       "\t 56  & 1   & 1   & 120 & 236 & 0   & 1   & 178 & 0   & 0.8 & 2   & 0   & 2   & 1  \\\\\n",
       "\t 57  & 0   & 0   & 120 & 354 & 0   & 1   & 163 & 1   & 0.6 & 2   & 0   & 2   & 1  \\\\\n",
       "\t 57  & 1   & 0   & 140 & 192 & 0   & 1   & 148 & 0   & 0.4 & 1   & 0   & 1   & 1  \\\\\n",
       "\\end{tabular}\n"
      ],
      "text/markdown": [
       "\n",
       "| ï..age | sex | cp | trestbps | chol | fbs | restecg | thalach | exang | oldpeak | slope | ca | thal | target |\n",
       "|---|---|---|---|---|---|---|---|---|---|---|---|---|---|\n",
       "| 63  | 1   | 3   | 145 | 233 | 1   | 0   | 150 | 0   | 2.3 | 0   | 0   | 1   | 1   |\n",
       "| 37  | 1   | 2   | 130 | 250 | 0   | 1   | 187 | 0   | 3.5 | 0   | 0   | 2   | 1   |\n",
       "| 41  | 0   | 1   | 130 | 204 | 0   | 0   | 172 | 0   | 1.4 | 2   | 0   | 2   | 1   |\n",
       "| 56  | 1   | 1   | 120 | 236 | 0   | 1   | 178 | 0   | 0.8 | 2   | 0   | 2   | 1   |\n",
       "| 57  | 0   | 0   | 120 | 354 | 0   | 1   | 163 | 1   | 0.6 | 2   | 0   | 2   | 1   |\n",
       "| 57  | 1   | 0   | 140 | 192 | 0   | 1   | 148 | 0   | 0.4 | 1   | 0   | 1   | 1   |\n",
       "\n"
      ],
      "text/plain": [
       "  ï..age sex cp trestbps chol fbs restecg thalach exang oldpeak slope ca thal\n",
       "1 63     1   3  145      233  1   0       150     0     2.3     0     0  1   \n",
       "2 37     1   2  130      250  0   1       187     0     3.5     0     0  2   \n",
       "3 41     0   1  130      204  0   0       172     0     1.4     2     0  2   \n",
       "4 56     1   1  120      236  0   1       178     0     0.8     2     0  2   \n",
       "5 57     0   0  120      354  0   1       163     1     0.6     2     0  2   \n",
       "6 57     1   0  140      192  0   1       148     0     0.4     1     0  1   \n",
       "  target\n",
       "1 1     \n",
       "2 1     \n",
       "3 1     \n",
       "4 1     \n",
       "5 1     \n",
       "6 1     "
      ]
     },
     "metadata": {},
     "output_type": "display_data"
    }
   ],
   "source": [
    "head(heart)"
   ]
  },
  {
   "cell_type": "code",
   "execution_count": 81,
   "id": "41617272",
   "metadata": {},
   "outputs": [
    {
     "name": "stdout",
     "output_type": "stream",
     "text": [
      "Rows: 303\n",
      "Columns: 14\n",
      "$ ï..age   <int> 63, 37, 41, 56, 57, 57, 56, 44, 52, 57, 54, 48, 49, 64, 58, 5~\n",
      "$ sex      <int> 1, 1, 0, 1, 0, 1, 0, 1, 1, 1, 1, 0, 1, 1, 0, 0, 0, 0, 1, 0, 1~\n",
      "$ cp       <int> 3, 2, 1, 1, 0, 0, 1, 1, 2, 2, 0, 2, 1, 3, 3, 2, 2, 3, 0, 3, 0~\n",
      "$ trestbps <int> 145, 130, 130, 120, 120, 140, 140, 120, 172, 150, 140, 130, 1~\n",
      "$ chol     <int> 233, 250, 204, 236, 354, 192, 294, 263, 199, 168, 239, 275, 2~\n",
      "$ fbs      <int> 1, 0, 0, 0, 0, 0, 0, 0, 1, 0, 0, 0, 0, 0, 1, 0, 0, 0, 0, 0, 0~\n",
      "$ restecg  <int> 0, 1, 0, 1, 1, 1, 0, 1, 1, 1, 1, 1, 1, 0, 0, 1, 1, 1, 1, 1, 1~\n",
      "$ thalach  <int> 150, 187, 172, 178, 163, 148, 153, 173, 162, 174, 160, 139, 1~\n",
      "$ exang    <int> 0, 0, 0, 0, 1, 0, 0, 0, 0, 0, 0, 0, 0, 1, 0, 0, 0, 0, 0, 0, 0~\n",
      "$ oldpeak  <dbl> 2.3, 3.5, 1.4, 0.8, 0.6, 0.4, 1.3, 0.0, 0.5, 1.6, 1.2, 0.2, 0~\n",
      "$ slope    <int> 0, 0, 2, 2, 2, 1, 1, 2, 2, 2, 2, 2, 2, 1, 2, 1, 2, 0, 2, 2, 1~\n",
      "$ ca       <int> 0, 0, 0, 0, 0, 0, 0, 0, 0, 0, 0, 0, 0, 0, 0, 0, 0, 0, 0, 2, 0~\n",
      "$ thal     <int> 1, 2, 2, 2, 2, 1, 2, 3, 3, 2, 2, 2, 2, 2, 2, 2, 2, 2, 2, 2, 3~\n",
      "$ target   <int> 1, 1, 1, 1, 1, 1, 1, 1, 1, 1, 1, 1, 1, 1, 1, 1, 1, 1, 1, 1, 1~\n"
     ]
    }
   ],
   "source": [
    "glimpse(heart)"
   ]
  },
  {
   "cell_type": "code",
   "execution_count": 82,
   "id": "2aca9fc8",
   "metadata": {},
   "outputs": [
    {
     "data": {
      "text/html": [
       "<ol class=list-inline>\n",
       "\t<li>303</li>\n",
       "\t<li>14</li>\n",
       "</ol>\n"
      ],
      "text/latex": [
       "\\begin{enumerate*}\n",
       "\\item 303\n",
       "\\item 14\n",
       "\\end{enumerate*}\n"
      ],
      "text/markdown": [
       "1. 303\n",
       "2. 14\n",
       "\n",
       "\n"
      ],
      "text/plain": [
       "[1] 303  14"
      ]
     },
     "metadata": {},
     "output_type": "display_data"
    }
   ],
   "source": [
    "dim(heart)"
   ]
  },
  {
   "cell_type": "code",
   "execution_count": 83,
   "id": "4e3f875e",
   "metadata": {},
   "outputs": [],
   "source": [
    "heart_data=heart %>%\n",
    "  mutate(sex = if_else(sex == 1, \"MALE\", \"FEMALE\"),\n",
    "         fbs = if_else(fbs == 1, \">120\", \"<=120\"),\n",
    "         exang = if_else(exang == 1, \"YES\" ,\"NO\"),\n",
    "         cp = if_else(cp == 1, \"ATYPICAL ANGINA\",\n",
    "                      if_else(cp == 2, \"NON-ANGINAL PAIN\", \"ASYMPTOMATIC\")),\n",
    "         restecg = if_else(restecg == 0, \"NORMAL\",\n",
    "                           if_else(restecg == 1, \"ABNORMALITY\", \"PROBABLE OR DEFINITE\")),\n",
    "         slope = as.factor(slope),\n",
    "         ca = as.factor(ca),\n",
    "         thal = as.factor(thal),\n",
    "         target = if_else(target == 1, \"Present\", \"Absent\")\n",
    "         )"
   ]
  },
  {
   "cell_type": "code",
   "execution_count": 84,
   "id": "6e79c8c9",
   "metadata": {},
   "outputs": [],
   "source": [
    "# Covrting the variables into factor\n",
    "heart_data$sex = as.factor(heart_data$sex)\n",
    "heart_data$cp = as.factor(heart_data$cp)\n",
    "heart_data$fbs = as.factor(heart_data$fbs)\n",
    "heart_data$restecg = as.factor(heart_data$restecg)\n",
    "heart_data$exang = as.factor(heart_data$exang)\n",
    "heart_data$slope = as.factor(heart_data$slope)\n",
    "heart_data$cp=as.factor(heart_data$cp)\n",
    "heart_data$thal = as.factor(heart_data$thal)\n",
    "heart_data$target = as.factor(heart_data$target)"
   ]
  },
  {
   "cell_type": "code",
   "execution_count": 85,
   "id": "e3c14ed9",
   "metadata": {},
   "outputs": [
    {
     "data": {
      "text/html": [
       "<ol class=list-inline>\n",
       "\t<li>303</li>\n",
       "\t<li>14</li>\n",
       "</ol>\n"
      ],
      "text/latex": [
       "\\begin{enumerate*}\n",
       "\\item 303\n",
       "\\item 14\n",
       "\\end{enumerate*}\n"
      ],
      "text/markdown": [
       "1. 303\n",
       "2. 14\n",
       "\n",
       "\n"
      ],
      "text/plain": [
       "[1] 303  14"
      ]
     },
     "metadata": {},
     "output_type": "display_data"
    }
   ],
   "source": [
    "dim(heart_data)"
   ]
  },
  {
   "cell_type": "code",
   "execution_count": 86,
   "id": "b32c7043",
   "metadata": {},
   "outputs": [
    {
     "name": "stdout",
     "output_type": "stream",
     "text": [
      "'data.frame':\t303 obs. of  14 variables:\n",
      " $ ï..age  : int  63 37 41 56 57 57 56 44 52 57 ...\n",
      " $ sex     : Factor w/ 2 levels \"FEMALE\",\"MALE\": 2 2 1 2 1 2 1 2 2 2 ...\n",
      " $ cp      : Factor w/ 3 levels \"ASYMPTOMATIC\",..: 1 3 2 2 1 1 2 2 3 3 ...\n",
      " $ trestbps: int  145 130 130 120 120 140 140 120 172 150 ...\n",
      " $ chol    : int  233 250 204 236 354 192 294 263 199 168 ...\n",
      " $ fbs     : Factor w/ 2 levels \"<=120\",\">120\": 2 1 1 1 1 1 1 1 2 1 ...\n",
      " $ restecg : Factor w/ 3 levels \"ABNORMALITY\",..: 2 1 2 1 1 1 2 1 1 1 ...\n",
      " $ thalach : int  150 187 172 178 163 148 153 173 162 174 ...\n",
      " $ exang   : Factor w/ 2 levels \"NO\",\"YES\": 1 1 1 1 2 1 1 1 1 1 ...\n",
      " $ oldpeak : num  2.3 3.5 1.4 0.8 0.6 0.4 1.3 0 0.5 1.6 ...\n",
      " $ slope   : Factor w/ 3 levels \"0\",\"1\",\"2\": 1 1 3 3 3 2 2 3 3 3 ...\n",
      " $ ca      : Factor w/ 5 levels \"0\",\"1\",\"2\",\"3\",..: 1 1 1 1 1 1 1 1 1 1 ...\n",
      " $ thal    : Factor w/ 4 levels \"0\",\"1\",\"2\",\"3\": 2 3 3 3 3 2 3 4 4 3 ...\n",
      " $ target  : Factor w/ 2 levels \"Absent\",\"Present\": 2 2 2 2 2 2 2 2 2 2 ...\n"
     ]
    }
   ],
   "source": [
    "str(heart_data)"
   ]
  },
  {
   "cell_type": "code",
   "execution_count": 87,
   "id": "a8601bc8",
   "metadata": {},
   "outputs": [
    {
     "data": {
      "text/plain": [
       "   Cell Contents \n",
       "|-------------------------|\n",
       "|                       N | \n",
       "|           N / Row Total | \n",
       "|-------------------------|\n",
       "\n",
       "|       0 |       1 |\n",
       "|---------|---------|\n",
       "|     138 |     165 |\n",
       "|   0.455 |   0.545 |\n",
       "|---------|---------|\n"
      ]
     },
     "metadata": {},
     "output_type": "display_data"
    }
   ],
   "source": [
    "CrossTable(heart$target)"
   ]
  },
  {
   "cell_type": "markdown",
   "id": "8200313b",
   "metadata": {},
   "source": [
    "# Data Visulization"
   ]
  },
  {
   "cell_type": "code",
   "execution_count": 88,
   "id": "f413aa94",
   "metadata": {},
   "outputs": [
    {
     "data": {
      "image/png": "[encoded data removed]",
      "text/plain": [
       "plot without title"
      ]
     },
     "metadata": {},
     "output_type": "display_data"
    }
   ],
   "source": [
    "# Bar plot for heart disease\n",
    "\n",
    "ggplot(heart_data, aes(x=heart_data$target, fill=target))+\n",
    "   geom_bar()+\n",
    "   xlab(\"Heart Disease\")+\n",
    "   ylab(\"count\")+\n",
    "   ggtitle(\"Presence & Absence of Heart Disease\")"
   ]
  },
  {
   "cell_type": "code",
   "execution_count": 89,
   "id": "d00fd6fe",
   "metadata": {},
   "outputs": [
    {
     "data": {
      "image/png": "[encoded data removed]",
      "text/plain": [
       "plot without title"
      ]
     },
     "metadata": {},
     "output_type": "display_data"
    }
   ],
   "source": [
    "# age wise heart disease data\n",
    "ggplot(heart_data, aes(x=heart_data$ï..age, fill=target))+\n",
    "   geom_bar()+\n",
    "   xlab(\"Heart Disease\")+\n",
    "   ylab(\"count\")+\n",
    "   ggtitle(\"Presence & Absence of Heart Disease\")"
   ]
  },
  {
   "cell_type": "markdown",
   "id": "3f482ed1",
   "metadata": {},
   "source": [
    "# Dividing the age into different age group for better understanding"
   ]
  },
  {
   "cell_type": "code",
   "execution_count": 90,
   "id": "86050a88",
   "metadata": {},
   "outputs": [],
   "source": [
    "heart_data$age_bar=if_else(heart_data$ï..age>70,\">70 years\",if_else(heart_data$ï..age>60,\"60-70\",if_else(heart_data$ï..age>50,'50-60',\n",
    "                                                                                               if_else(heart_data$ï..age>40,\"40-50\",\n",
    "                                                                                                       \n",
    "                                                                                            if_else(heart_data$ï..age>30,\"30-40\",\"less than 30 yrs\")))))"
   ]
  },
  {
   "cell_type": "code",
   "execution_count": 91,
   "id": "3c2cf90f",
   "metadata": {},
   "outputs": [
    {
     "data": {
      "text/html": [
       "<table>\n",
       "<thead><tr><th></th><th scope=col>ï..age</th><th scope=col>sex</th><th scope=col>cp</th><th scope=col>trestbps</th><th scope=col>chol</th><th scope=col>fbs</th><th scope=col>restecg</th><th scope=col>thalach</th><th scope=col>exang</th><th scope=col>oldpeak</th><th scope=col>slope</th><th scope=col>ca</th><th scope=col>thal</th><th scope=col>target</th><th scope=col>age_bar</th></tr></thead>\n",
       "<tbody>\n",
       "\t<tr><th scope=row>298</th><td>59                                                     </td><td><span style=white-space:pre-wrap>MALE  </span>         </td><td><span style=white-space:pre-wrap>ASYMPTOMATIC   </span></td><td>164                                                    </td><td>176                                                    </td><td>&gt;120                                                </td><td><span style=white-space:pre-wrap>NORMAL     </span>    </td><td> 90                                                    </td><td>NO                                                     </td><td>1.0                                                    </td><td>1                                                      </td><td>2                                                      </td><td>1                                                      </td><td>Absent                                                 </td><td>50-60                                                  </td></tr>\n",
       "\t<tr><th scope=row>299</th><td>57                                                     </td><td>FEMALE                                                 </td><td><span style=white-space:pre-wrap>ASYMPTOMATIC   </span></td><td>140                                                    </td><td>241                                                    </td><td>&lt;=120                                               </td><td>ABNORMALITY                                            </td><td>123                                                    </td><td>YES                                                    </td><td>0.2                                                    </td><td>1                                                      </td><td>0                                                      </td><td>3                                                      </td><td>Absent                                                 </td><td>50-60                                                  </td></tr>\n",
       "\t<tr><th scope=row>300</th><td>45                                                     </td><td><span style=white-space:pre-wrap>MALE  </span>         </td><td><span style=white-space:pre-wrap>ASYMPTOMATIC   </span></td><td>110                                                    </td><td>264                                                    </td><td>&lt;=120                                               </td><td>ABNORMALITY                                            </td><td>132                                                    </td><td>NO                                                     </td><td>1.2                                                    </td><td>1                                                      </td><td>0                                                      </td><td>3                                                      </td><td>Absent                                                 </td><td>40-50                                                  </td></tr>\n",
       "\t<tr><th scope=row>301</th><td>68                                                     </td><td><span style=white-space:pre-wrap>MALE  </span>         </td><td><span style=white-space:pre-wrap>ASYMPTOMATIC   </span></td><td>144                                                    </td><td>193                                                    </td><td>&gt;120                                                </td><td>ABNORMALITY                                            </td><td>141                                                    </td><td>NO                                                     </td><td>3.4                                                    </td><td>1                                                      </td><td>2                                                      </td><td>3                                                      </td><td>Absent                                                 </td><td>60-70                                                  </td></tr>\n",
       "\t<tr><th scope=row>302</th><td>57                                                     </td><td><span style=white-space:pre-wrap>MALE  </span>         </td><td><span style=white-space:pre-wrap>ASYMPTOMATIC   </span></td><td>130                                                    </td><td>131                                                    </td><td>&lt;=120                                               </td><td>ABNORMALITY                                            </td><td>115                                                    </td><td>YES                                                    </td><td>1.2                                                    </td><td>1                                                      </td><td>1                                                      </td><td>3                                                      </td><td>Absent                                                 </td><td>50-60                                                  </td></tr>\n",
       "\t<tr><th scope=row>303</th><td>57                                                 </td><td>FEMALE                                             </td><td>ATYPICAL ANGINA                                    </td><td>130                                                </td><td>236                                                </td><td>&lt;=120                                           </td><td><span style=white-space:pre-wrap>NORMAL     </span></td><td>174                                                </td><td>NO                                                 </td><td>0.0                                                </td><td>1                                                  </td><td>1                                                  </td><td>2                                                  </td><td>Absent                                             </td><td>50-60                                              </td></tr>\n",
       "</tbody>\n",
       "</table>\n"
      ],
      "text/latex": [
       "\\begin{tabular}{r|lllllllllllllll}\n",
       "  & ï..age & sex & cp & trestbps & chol & fbs & restecg & thalach & exang & oldpeak & slope & ca & thal & target & age\\_bar\\\\\n",
       "\\hline\n",
       "\t298 & 59              & MALE            & ASYMPTOMATIC    & 164             & 176             & >120            & NORMAL          &  90             & NO              & 1.0             & 1               & 2               & 1               & Absent          & 50-60          \\\\\n",
       "\t299 & 57              & FEMALE          & ASYMPTOMATIC    & 140             & 241             & <=120           & ABNORMALITY     & 123             & YES             & 0.2             & 1               & 0               & 3               & Absent          & 50-60          \\\\\n",
       "\t300 & 45              & MALE            & ASYMPTOMATIC    & 110             & 264             & <=120           & ABNORMALITY     & 132             & NO              & 1.2             & 1               & 0               & 3               & Absent          & 40-50          \\\\\n",
       "\t301 & 68              & MALE            & ASYMPTOMATIC    & 144             & 193             & >120            & ABNORMALITY     & 141             & NO              & 3.4             & 1               & 2               & 3               & Absent          & 60-70          \\\\\n",
       "\t302 & 57              & MALE            & ASYMPTOMATIC    & 130             & 131             & <=120           & ABNORMALITY     & 115             & YES             & 1.2             & 1               & 1               & 3               & Absent          & 50-60          \\\\\n",
       "\t303 & 57              & FEMALE          & ATYPICAL ANGINA & 130             & 236             & <=120           & NORMAL          & 174             & NO              & 0.0             & 1               & 1               & 2               & Absent          & 50-60          \\\\\n",
       "\\end{tabular}\n"
      ],
      "text/markdown": [
       "\n",
       "| <!--/--> | ï..age | sex | cp | trestbps | chol | fbs | restecg | thalach | exang | oldpeak | slope | ca | thal | target | age_bar |\n",
       "|---|---|---|---|---|---|---|---|---|---|---|---|---|---|---|---|\n",
       "| 298 | 59              | MALE            | ASYMPTOMATIC    | 164             | 176             | >120            | NORMAL          |  90             | NO              | 1.0             | 1               | 2               | 1               | Absent          | 50-60           |\n",
       "| 299 | 57              | FEMALE          | ASYMPTOMATIC    | 140             | 241             | <=120           | ABNORMALITY     | 123             | YES             | 0.2             | 1               | 0               | 3               | Absent          | 50-60           |\n",
       "| 300 | 45              | MALE            | ASYMPTOMATIC    | 110             | 264             | <=120           | ABNORMALITY     | 132             | NO              | 1.2             | 1               | 0               | 3               | Absent          | 40-50           |\n",
       "| 301 | 68              | MALE            | ASYMPTOMATIC    | 144             | 193             | >120            | ABNORMALITY     | 141             | NO              | 3.4             | 1               | 2               | 3               | Absent          | 60-70           |\n",
       "| 302 | 57              | MALE            | ASYMPTOMATIC    | 130             | 131             | <=120           | ABNORMALITY     | 115             | YES             | 1.2             | 1               | 1               | 3               | Absent          | 50-60           |\n",
       "| 303 | 57              | FEMALE          | ATYPICAL ANGINA | 130             | 236             | <=120           | NORMAL          | 174             | NO              | 0.0             | 1               | 1               | 2               | Absent          | 50-60           |\n",
       "\n"
      ],
      "text/plain": [
       "    ï..age sex    cp              trestbps chol fbs   restecg     thalach exang\n",
       "298 59     MALE   ASYMPTOMATIC    164      176  >120  NORMAL       90     NO   \n",
       "299 57     FEMALE ASYMPTOMATIC    140      241  <=120 ABNORMALITY 123     YES  \n",
       "300 45     MALE   ASYMPTOMATIC    110      264  <=120 ABNORMALITY 132     NO   \n",
       "301 68     MALE   ASYMPTOMATIC    144      193  >120  ABNORMALITY 141     NO   \n",
       "302 57     MALE   ASYMPTOMATIC    130      131  <=120 ABNORMALITY 115     YES  \n",
       "303 57     FEMALE ATYPICAL ANGINA 130      236  <=120 NORMAL      174     NO   \n",
       "    oldpeak slope ca thal target age_bar\n",
       "298 1.0     1     2  1    Absent 50-60  \n",
       "299 0.2     1     0  3    Absent 50-60  \n",
       "300 1.2     1     0  3    Absent 40-50  \n",
       "301 3.4     1     2  3    Absent 60-70  \n",
       "302 1.2     1     1  3    Absent 50-60  \n",
       "303 0.0     1     1  2    Absent 50-60  "
      ]
     },
     "metadata": {},
     "output_type": "display_data"
    }
   ],
   "source": [
    "tail(heart_data)"
   ]
  },
  {
   "cell_type": "code",
   "execution_count": 92,
   "id": "031469dd",
   "metadata": {},
   "outputs": [],
   "source": [
    "heart_data$age_bar=as.factor(heart_data$age_bar)"
   ]
  },
  {
   "cell_type": "code",
   "execution_count": 93,
   "id": "25c55468",
   "metadata": {},
   "outputs": [
    {
     "ename": "ERROR",
     "evalue": "Error in table(dep, indep): all arguments must have the same length\n",
     "output_type": "error",
     "traceback": [
      "Error in table(dep, indep): all arguments must have the same length\nTraceback:\n",
      "1. crosstab(heart_data$age_bar, heart_data$disease, prop.r = T, \n .     plot = FALSE)",
      "2. table(dep, indep)",
      "3. stop(\"all arguments must have the same length\")"
     ]
    },
    {
     "data": {
      "image/png": "[encoded data removed]",
      "text/plain": [
       "plot without title"
      ]
     },
     "metadata": {},
     "output_type": "display_data"
    }
   ],
   "source": [
    "ggplot(heart_data,aes(x=age_bar,fill=target))+geom_bar()+ ggtitle(\"Presence & Absence of Heart Disease\")\n",
    "crosstab(heart_data$age_bar,heart_data$disease,prop.r = T,plot = FALSE)"
   ]
  },
  {
   "cell_type": "code",
   "execution_count": null,
   "id": "9a34479e",
   "metadata": {},
   "outputs": [],
   "source": [
    "table(heart_data$sex)\n",
    "# There is a imbalance between male and female data"
   ]
  },
  {
   "cell_type": "code",
   "execution_count": 94,
   "id": "bcd7a604",
   "metadata": {},
   "outputs": [
    {
     "ename": "ERROR",
     "evalue": "Error in table(dep, indep): all arguments must have the same length\n",
     "output_type": "error",
     "traceback": [
      "Error in table(dep, indep): all arguments must have the same length\nTraceback:\n",
      "1. crosstab(heart_data$sex, heart_data$disease, prop.r = T, plot = FALSE)",
      "2. table(dep, indep)",
      "3. stop(\"all arguments must have the same length\")"
     ]
    },
    {
     "data": {
      "image/png": "[encoded data removed]",
      "text/plain": [
       "plot without title"
      ]
     },
     "metadata": {},
     "output_type": "display_data"
    }
   ],
   "source": [
    "# comapre Heart disease Genderwise\n",
    "\n",
    "heart_data %>%\n",
    "  ggplot(aes(x=sex,fill=target))+ \n",
    "  geom_bar()+ ggtitle(\"Presence & Absence of Heart Disease\")\n",
    "crosstab(heart_data$sex,heart_data$disease,prop.r = T,plot = FALSE)\n",
    " "
   ]
  },
  {
   "cell_type": "markdown",
   "id": "d54a5b48",
   "metadata": {},
   "source": [
    "Female are more prone to heart disease as compared to male."
   ]
  },
  {
   "cell_type": "code",
   "execution_count": 95,
   "id": "988ab5c4",
   "metadata": {},
   "outputs": [
    {
     "ename": "ERROR",
     "evalue": "Error in table(dep, indep): all arguments must have the same length\n",
     "output_type": "error",
     "traceback": [
      "Error in table(dep, indep): all arguments must have the same length\nTraceback:\n",
      "1. crosstab(heart_data$cp, heart_data$disease, prop.r = T, plot = FALSE)",
      "2. table(dep, indep)",
      "3. stop(\"all arguments must have the same length\")"
     ]
    },
    {
     "data": {
      "image/png": "[encoded data removed]",
      "text/plain": [
       "plot without title"
      ]
     },
     "metadata": {},
     "output_type": "display_data"
    }
   ],
   "source": [
    "# Chest pain analysis\n",
    "#cp\n",
    "\n",
    "#Chest pain type\n",
    "\n",
    "heart_data %>%\n",
    "  ggplot(aes(x=cp,fill=target))+ \n",
    "  geom_bar()+ ggtitle(\"Presence & Absence of Heart Disease\")\n",
    "crosstab(heart_data$cp,heart_data$disease,prop.r = T,plot = FALSE)\n",
    " \n"
   ]
  },
  {
   "cell_type": "markdown",
   "id": "7f0dcf3a",
   "metadata": {},
   "source": [
    "Here we see that it is very difficult to tell whether a patient has a heart disease attending just to the symptoms of the patients."
   ]
  },
  {
   "cell_type": "code",
   "execution_count": 96,
   "id": "95504b66",
   "metadata": {},
   "outputs": [],
   "source": [
    "#trestbps\n",
    "\n",
    "# Resting blood pressure in millimeters of mercury (mm Hg) when the patient was admitted to the hospital.\n",
    "\n",
    "resting_bp= heart_data %>%\n",
    "  mutate(resting_bps=case_when(100<=trestbps & trestbps<=130~'Normal', \n",
    "                   130<trestbps & trestbps<=140~'Moderately high',\n",
    "                   140<trestbps & trestbps<=160~'Very high',\n",
    "        \n",
    "                   TRUE~'>160 extreamly high'))\n"
   ]
  },
  {
   "cell_type": "code",
   "execution_count": 97,
   "id": "d64bd63b",
   "metadata": {},
   "outputs": [
    {
     "data": {
      "text/html": [
       "<table>\n",
       "<thead><tr><th scope=col>ï..age</th><th scope=col>sex</th><th scope=col>cp</th><th scope=col>trestbps</th><th scope=col>chol</th><th scope=col>fbs</th><th scope=col>restecg</th><th scope=col>thalach</th><th scope=col>exang</th><th scope=col>oldpeak</th><th scope=col>slope</th><th scope=col>ca</th><th scope=col>thal</th><th scope=col>target</th><th scope=col>age_bar</th><th scope=col>resting_bps</th></tr></thead>\n",
       "<tbody>\n",
       "\t<tr><td>63                                                         </td><td><span style=white-space:pre-wrap>MALE  </span>             </td><td><span style=white-space:pre-wrap>ASYMPTOMATIC    </span>   </td><td>145                                                        </td><td>233                                                        </td><td>&gt;120                                                    </td><td><span style=white-space:pre-wrap>NORMAL     </span>        </td><td>150                                                        </td><td>NO                                                         </td><td>2.3                                                        </td><td>0                                                          </td><td>0                                                          </td><td>1                                                          </td><td>Present                                                    </td><td><span style=white-space:pre-wrap>60-70    </span>          </td><td><span style=white-space:pre-wrap>Very high          </span></td></tr>\n",
       "\t<tr><td>37                                                         </td><td><span style=white-space:pre-wrap>MALE  </span>             </td><td>NON-ANGINAL PAIN                                           </td><td>130                                                        </td><td>250                                                        </td><td>&lt;=120                                                   </td><td>ABNORMALITY                                                </td><td>187                                                        </td><td>NO                                                         </td><td>3.5                                                        </td><td>0                                                          </td><td>0                                                          </td><td>2                                                          </td><td>Present                                                    </td><td><span style=white-space:pre-wrap>30-40    </span>          </td><td><span style=white-space:pre-wrap>Normal             </span></td></tr>\n",
       "\t<tr><td>41                                                         </td><td>FEMALE                                                     </td><td>ATYPICAL ANGINA                                            </td><td>130                                                        </td><td>204                                                        </td><td>&lt;=120                                                   </td><td><span style=white-space:pre-wrap>NORMAL     </span>        </td><td>172                                                        </td><td>NO                                                         </td><td>1.4                                                        </td><td>2                                                          </td><td>0                                                          </td><td>2                                                          </td><td>Present                                                    </td><td><span style=white-space:pre-wrap>40-50    </span>          </td><td><span style=white-space:pre-wrap>Normal             </span></td></tr>\n",
       "\t<tr><td>56                                                         </td><td><span style=white-space:pre-wrap>MALE  </span>             </td><td>ATYPICAL ANGINA                                            </td><td>120                                                        </td><td>236                                                        </td><td>&lt;=120                                                   </td><td>ABNORMALITY                                                </td><td>178                                                        </td><td>NO                                                         </td><td>0.8                                                        </td><td>2                                                          </td><td>0                                                          </td><td>2                                                          </td><td>Present                                                    </td><td><span style=white-space:pre-wrap>50-60    </span>          </td><td><span style=white-space:pre-wrap>Normal             </span></td></tr>\n",
       "\t<tr><td>57                                                         </td><td>FEMALE                                                     </td><td><span style=white-space:pre-wrap>ASYMPTOMATIC    </span>   </td><td>120                                                        </td><td>354                                                        </td><td>&lt;=120                                                   </td><td>ABNORMALITY                                                </td><td>163                                                        </td><td>YES                                                        </td><td>0.6                                                        </td><td>2                                                          </td><td>0                                                          </td><td>2                                                          </td><td>Present                                                    </td><td><span style=white-space:pre-wrap>50-60    </span>          </td><td><span style=white-space:pre-wrap>Normal             </span></td></tr>\n",
       "\t<tr><td>57                                                         </td><td><span style=white-space:pre-wrap>MALE  </span>             </td><td><span style=white-space:pre-wrap>ASYMPTOMATIC    </span>   </td><td>140                                                        </td><td>192                                                        </td><td>&lt;=120                                                   </td><td>ABNORMALITY                                                </td><td>148                                                        </td><td>NO                                                         </td><td>0.4                                                        </td><td>1                                                          </td><td>0                                                          </td><td>1                                                          </td><td>Present                                                    </td><td><span style=white-space:pre-wrap>50-60    </span>          </td><td><span style=white-space:pre-wrap>Moderately high    </span></td></tr>\n",
       "\t<tr><td>56                                                         </td><td>FEMALE                                                     </td><td>ATYPICAL ANGINA                                            </td><td>140                                                        </td><td>294                                                        </td><td>&lt;=120                                                   </td><td><span style=white-space:pre-wrap>NORMAL     </span>        </td><td>153                                                        </td><td>NO                                                         </td><td>1.3                                                        </td><td>1                                                          </td><td>0                                                          </td><td>2                                                          </td><td>Present                                                    </td><td><span style=white-space:pre-wrap>50-60    </span>          </td><td><span style=white-space:pre-wrap>Moderately high    </span></td></tr>\n",
       "\t<tr><td>44                                                         </td><td><span style=white-space:pre-wrap>MALE  </span>             </td><td>ATYPICAL ANGINA                                            </td><td>120                                                        </td><td>263                                                        </td><td>&lt;=120                                                   </td><td>ABNORMALITY                                                </td><td>173                                                        </td><td>NO                                                         </td><td>0.0                                                        </td><td>2                                                          </td><td>0                                                          </td><td>3                                                          </td><td>Present                                                    </td><td><span style=white-space:pre-wrap>40-50    </span>          </td><td><span style=white-space:pre-wrap>Normal             </span></td></tr>\n",
       "\t<tr><td>52                                               </td><td><span style=white-space:pre-wrap>MALE  </span>   </td><td>NON-ANGINAL PAIN                                 </td><td>172                                              </td><td>199                                              </td><td>&gt;120                                          </td><td>ABNORMALITY                                      </td><td>162                                              </td><td>NO                                               </td><td>0.5                                              </td><td>2                                                </td><td>0                                                </td><td>3                                                </td><td>Present                                          </td><td><span style=white-space:pre-wrap>50-60    </span></td><td>&gt;160 extreamly high                           </td></tr>\n",
       "\t<tr><td>57                                                         </td><td><span style=white-space:pre-wrap>MALE  </span>             </td><td>NON-ANGINAL PAIN                                           </td><td>150                                                        </td><td>168                                                        </td><td>&lt;=120                                                   </td><td>ABNORMALITY                                                </td><td>174                                                        </td><td>NO                                                         </td><td>1.6                                                        </td><td>2                                                          </td><td>0                                                          </td><td>2                                                          </td><td>Present                                                    </td><td><span style=white-space:pre-wrap>50-60    </span>          </td><td><span style=white-space:pre-wrap>Very high          </span></td></tr>\n",
       "\t<tr><td>54                                                         </td><td><span style=white-space:pre-wrap>MALE  </span>             </td><td><span style=white-space:pre-wrap>ASYMPTOMATIC    </span>   </td><td>140                                                        </td><td>239                                                        </td><td>&lt;=120                                                   </td><td>ABNORMALITY                                                </td><td>160                                                        </td><td>NO                                                         </td><td>1.2                                                        </td><td>2                                                          </td><td>0                                                          </td><td>2                                                          </td><td>Present                                                    </td><td><span style=white-space:pre-wrap>50-60    </span>          </td><td><span style=white-space:pre-wrap>Moderately high    </span></td></tr>\n",
       "\t<tr><td>48                                                         </td><td>FEMALE                                                     </td><td>NON-ANGINAL PAIN                                           </td><td>130                                                        </td><td>275                                                        </td><td>&lt;=120                                                   </td><td>ABNORMALITY                                                </td><td>139                                                        </td><td>NO                                                         </td><td>0.2                                                        </td><td>2                                                          </td><td>0                                                          </td><td>2                                                          </td><td>Present                                                    </td><td><span style=white-space:pre-wrap>40-50    </span>          </td><td><span style=white-space:pre-wrap>Normal             </span></td></tr>\n",
       "\t<tr><td>49                                                         </td><td><span style=white-space:pre-wrap>MALE  </span>             </td><td>ATYPICAL ANGINA                                            </td><td>130                                                        </td><td>266                                                        </td><td>&lt;=120                                                   </td><td>ABNORMALITY                                                </td><td>171                                                        </td><td>NO                                                         </td><td>0.6                                                        </td><td>2                                                          </td><td>0                                                          </td><td>2                                                          </td><td>Present                                                    </td><td><span style=white-space:pre-wrap>40-50    </span>          </td><td><span style=white-space:pre-wrap>Normal             </span></td></tr>\n",
       "\t<tr><td>64                                                         </td><td><span style=white-space:pre-wrap>MALE  </span>             </td><td><span style=white-space:pre-wrap>ASYMPTOMATIC    </span>   </td><td>110                                                        </td><td>211                                                        </td><td>&lt;=120                                                   </td><td><span style=white-space:pre-wrap>NORMAL     </span>        </td><td>144                                                        </td><td>YES                                                        </td><td>1.8                                                        </td><td>1                                                          </td><td>0                                                          </td><td>2                                                          </td><td>Present                                                    </td><td><span style=white-space:pre-wrap>60-70    </span>          </td><td><span style=white-space:pre-wrap>Normal             </span></td></tr>\n",
       "\t<tr><td>58                                                         </td><td>FEMALE                                                     </td><td><span style=white-space:pre-wrap>ASYMPTOMATIC    </span>   </td><td>150                                                        </td><td>283                                                        </td><td>&gt;120                                                    </td><td><span style=white-space:pre-wrap>NORMAL     </span>        </td><td>162                                                        </td><td>NO                                                         </td><td>1.0                                                        </td><td>2                                                          </td><td>0                                                          </td><td>2                                                          </td><td>Present                                                    </td><td><span style=white-space:pre-wrap>50-60    </span>          </td><td><span style=white-space:pre-wrap>Very high          </span></td></tr>\n",
       "\t<tr><td>50                                                         </td><td>FEMALE                                                     </td><td>NON-ANGINAL PAIN                                           </td><td>120                                                        </td><td>219                                                        </td><td>&lt;=120                                                   </td><td>ABNORMALITY                                                </td><td>158                                                        </td><td>NO                                                         </td><td>1.6                                                        </td><td>1                                                          </td><td>0                                                          </td><td>2                                                          </td><td>Present                                                    </td><td><span style=white-space:pre-wrap>40-50    </span>          </td><td><span style=white-space:pre-wrap>Normal             </span></td></tr>\n",
       "\t<tr><td>58                                                         </td><td>FEMALE                                                     </td><td>NON-ANGINAL PAIN                                           </td><td>120                                                        </td><td>340                                                        </td><td>&lt;=120                                                   </td><td>ABNORMALITY                                                </td><td>172                                                        </td><td>NO                                                         </td><td>0.0                                                        </td><td>2                                                          </td><td>0                                                          </td><td>2                                                          </td><td>Present                                                    </td><td><span style=white-space:pre-wrap>50-60    </span>          </td><td><span style=white-space:pre-wrap>Normal             </span></td></tr>\n",
       "\t<tr><td>66                                                         </td><td>FEMALE                                                     </td><td><span style=white-space:pre-wrap>ASYMPTOMATIC    </span>   </td><td>150                                                        </td><td>226                                                        </td><td>&lt;=120                                                   </td><td>ABNORMALITY                                                </td><td>114                                                        </td><td>NO                                                         </td><td>2.6                                                        </td><td>0                                                          </td><td>0                                                          </td><td>2                                                          </td><td>Present                                                    </td><td><span style=white-space:pre-wrap>60-70    </span>          </td><td><span style=white-space:pre-wrap>Very high          </span></td></tr>\n",
       "\t<tr><td>43                                                         </td><td><span style=white-space:pre-wrap>MALE  </span>             </td><td><span style=white-space:pre-wrap>ASYMPTOMATIC    </span>   </td><td>150                                                        </td><td>247                                                        </td><td>&lt;=120                                                   </td><td>ABNORMALITY                                                </td><td>171                                                        </td><td>NO                                                         </td><td>1.5                                                        </td><td>2                                                          </td><td>0                                                          </td><td>2                                                          </td><td>Present                                                    </td><td><span style=white-space:pre-wrap>40-50    </span>          </td><td><span style=white-space:pre-wrap>Very high          </span></td></tr>\n",
       "\t<tr><td>69                                                         </td><td>FEMALE                                                     </td><td><span style=white-space:pre-wrap>ASYMPTOMATIC    </span>   </td><td>140                                                        </td><td>239                                                        </td><td>&lt;=120                                                   </td><td>ABNORMALITY                                                </td><td>151                                                        </td><td>NO                                                         </td><td>1.8                                                        </td><td>2                                                          </td><td>2                                                          </td><td>2                                                          </td><td>Present                                                    </td><td><span style=white-space:pre-wrap>60-70    </span>          </td><td><span style=white-space:pre-wrap>Moderately high    </span></td></tr>\n",
       "\t<tr><td>59                                                         </td><td><span style=white-space:pre-wrap>MALE  </span>             </td><td><span style=white-space:pre-wrap>ASYMPTOMATIC    </span>   </td><td>135                                                        </td><td>234                                                        </td><td>&lt;=120                                                   </td><td>ABNORMALITY                                                </td><td>161                                                        </td><td>NO                                                         </td><td>0.5                                                        </td><td>1                                                          </td><td>0                                                          </td><td>3                                                          </td><td>Present                                                    </td><td><span style=white-space:pre-wrap>50-60    </span>          </td><td><span style=white-space:pre-wrap>Moderately high    </span></td></tr>\n",
       "\t<tr><td>44                                                         </td><td><span style=white-space:pre-wrap>MALE  </span>             </td><td>NON-ANGINAL PAIN                                           </td><td>130                                                        </td><td>233                                                        </td><td>&lt;=120                                                   </td><td>ABNORMALITY                                                </td><td>179                                                        </td><td>YES                                                        </td><td>0.4                                                        </td><td>2                                                          </td><td>0                                                          </td><td>2                                                          </td><td>Present                                                    </td><td><span style=white-space:pre-wrap>40-50    </span>          </td><td><span style=white-space:pre-wrap>Normal             </span></td></tr>\n",
       "\t<tr><td>42                                                         </td><td><span style=white-space:pre-wrap>MALE  </span>             </td><td><span style=white-space:pre-wrap>ASYMPTOMATIC    </span>   </td><td>140                                                        </td><td>226                                                        </td><td>&lt;=120                                                   </td><td>ABNORMALITY                                                </td><td>178                                                        </td><td>NO                                                         </td><td>0.0                                                        </td><td>2                                                          </td><td>0                                                          </td><td>2                                                          </td><td>Present                                                    </td><td><span style=white-space:pre-wrap>40-50    </span>          </td><td><span style=white-space:pre-wrap>Moderately high    </span></td></tr>\n",
       "\t<tr><td>61                                                         </td><td><span style=white-space:pre-wrap>MALE  </span>             </td><td>NON-ANGINAL PAIN                                           </td><td>150                                                        </td><td>243                                                        </td><td>&gt;120                                                    </td><td>ABNORMALITY                                                </td><td>137                                                        </td><td>YES                                                        </td><td>1.0                                                        </td><td>1                                                          </td><td>0                                                          </td><td>2                                                          </td><td>Present                                                    </td><td><span style=white-space:pre-wrap>60-70    </span>          </td><td><span style=white-space:pre-wrap>Very high          </span></td></tr>\n",
       "\t<tr><td>40                                                         </td><td><span style=white-space:pre-wrap>MALE  </span>             </td><td><span style=white-space:pre-wrap>ASYMPTOMATIC    </span>   </td><td>140                                                        </td><td>199                                                        </td><td>&lt;=120                                                   </td><td>ABNORMALITY                                                </td><td>178                                                        </td><td>YES                                                        </td><td>1.4                                                        </td><td>2                                                          </td><td>0                                                          </td><td>3                                                          </td><td>Present                                                    </td><td><span style=white-space:pre-wrap>30-40    </span>          </td><td><span style=white-space:pre-wrap>Moderately high    </span></td></tr>\n",
       "\t<tr><td>71                                                         </td><td>FEMALE                                                     </td><td>ATYPICAL ANGINA                                            </td><td>160                                                        </td><td>302                                                        </td><td>&lt;=120                                                   </td><td>ABNORMALITY                                                </td><td>162                                                        </td><td>NO                                                         </td><td>0.4                                                        </td><td>2                                                          </td><td>2                                                          </td><td>2                                                          </td><td>Present                                                    </td><td>&gt;70 years                                               </td><td><span style=white-space:pre-wrap>Very high          </span></td></tr>\n",
       "\t<tr><td>59                                                         </td><td><span style=white-space:pre-wrap>MALE  </span>             </td><td>NON-ANGINAL PAIN                                           </td><td>150                                                        </td><td>212                                                        </td><td>&gt;120                                                    </td><td>ABNORMALITY                                                </td><td>157                                                        </td><td>NO                                                         </td><td>1.6                                                        </td><td>2                                                          </td><td>0                                                          </td><td>2                                                          </td><td>Present                                                    </td><td><span style=white-space:pre-wrap>50-60    </span>          </td><td><span style=white-space:pre-wrap>Very high          </span></td></tr>\n",
       "\t<tr><td>51                                                         </td><td><span style=white-space:pre-wrap>MALE  </span>             </td><td>NON-ANGINAL PAIN                                           </td><td>110                                                        </td><td>175                                                        </td><td>&lt;=120                                                   </td><td>ABNORMALITY                                                </td><td>123                                                        </td><td>NO                                                         </td><td>0.6                                                        </td><td>2                                                          </td><td>0                                                          </td><td>2                                                          </td><td>Present                                                    </td><td><span style=white-space:pre-wrap>50-60    </span>          </td><td><span style=white-space:pre-wrap>Normal             </span></td></tr>\n",
       "\t<tr><td>65                                                         </td><td>FEMALE                                                     </td><td>NON-ANGINAL PAIN                                           </td><td>140                                                        </td><td>417                                                        </td><td>&gt;120                                                    </td><td><span style=white-space:pre-wrap>NORMAL     </span>        </td><td>157                                                        </td><td>NO                                                         </td><td>0.8                                                        </td><td>2                                                          </td><td>1                                                          </td><td>2                                                          </td><td>Present                                                    </td><td><span style=white-space:pre-wrap>60-70    </span>          </td><td><span style=white-space:pre-wrap>Moderately high    </span></td></tr>\n",
       "\t<tr><td>53                                                         </td><td><span style=white-space:pre-wrap>MALE  </span>             </td><td>NON-ANGINAL PAIN                                           </td><td>130                                                        </td><td>197                                                        </td><td>&gt;120                                                    </td><td><span style=white-space:pre-wrap>NORMAL     </span>        </td><td>152                                                        </td><td>NO                                                         </td><td>1.2                                                        </td><td>0                                                          </td><td>0                                                          </td><td>2                                                          </td><td>Present                                                    </td><td><span style=white-space:pre-wrap>50-60    </span>          </td><td><span style=white-space:pre-wrap>Normal             </span></td></tr>\n",
       "\t<tr><td>...</td><td>...</td><td>...</td><td>...</td><td>...</td><td>...</td><td>...</td><td>...</td><td>...</td><td>...</td><td>...</td><td>...</td><td>...</td><td>...</td><td>...</td><td>...</td></tr>\n",
       "\t<tr><td>58                                                          </td><td><span style=white-space:pre-wrap>MALE  </span>              </td><td><span style=white-space:pre-wrap>ASYMPTOMATIC    </span>    </td><td>100                                                         </td><td>234                                                         </td><td>&lt;=120                                                    </td><td><span style=white-space:pre-wrap>ABNORMALITY         </span></td><td>156                                                         </td><td>NO                                                          </td><td>0.1                                                         </td><td>2                                                           </td><td>1                                                           </td><td>3                                                           </td><td>Absent                                                      </td><td>50-60                                                       </td><td><span style=white-space:pre-wrap>Normal             </span> </td></tr>\n",
       "\t<tr><td>47                                                          </td><td><span style=white-space:pre-wrap>MALE  </span>              </td><td><span style=white-space:pre-wrap>ASYMPTOMATIC    </span>    </td><td>110                                                         </td><td>275                                                         </td><td>&lt;=120                                                    </td><td><span style=white-space:pre-wrap>NORMAL              </span></td><td>118                                                         </td><td>YES                                                         </td><td>1.0                                                         </td><td>1                                                           </td><td>1                                                           </td><td>2                                                           </td><td>Absent                                                      </td><td>40-50                                                       </td><td><span style=white-space:pre-wrap>Normal             </span> </td></tr>\n",
       "\t<tr><td>52                                                          </td><td><span style=white-space:pre-wrap>MALE  </span>              </td><td><span style=white-space:pre-wrap>ASYMPTOMATIC    </span>    </td><td>125                                                         </td><td>212                                                         </td><td>&lt;=120                                                    </td><td><span style=white-space:pre-wrap>ABNORMALITY         </span></td><td>168                                                         </td><td>NO                                                          </td><td>1.0                                                         </td><td>2                                                           </td><td>2                                                           </td><td>3                                                           </td><td>Absent                                                      </td><td>50-60                                                       </td><td><span style=white-space:pre-wrap>Normal             </span> </td></tr>\n",
       "\t<tr><td>58                                                          </td><td><span style=white-space:pre-wrap>MALE  </span>              </td><td><span style=white-space:pre-wrap>ASYMPTOMATIC    </span>    </td><td>146                                                         </td><td>218                                                         </td><td>&lt;=120                                                    </td><td><span style=white-space:pre-wrap>ABNORMALITY         </span></td><td>105                                                         </td><td>NO                                                          </td><td>2.0                                                         </td><td>1                                                           </td><td>1                                                           </td><td>3                                                           </td><td>Absent                                                      </td><td>50-60                                                       </td><td><span style=white-space:pre-wrap>Very high          </span> </td></tr>\n",
       "\t<tr><td>57                                                          </td><td><span style=white-space:pre-wrap>MALE  </span>              </td><td>ATYPICAL ANGINA                                             </td><td>124                                                         </td><td>261                                                         </td><td>&lt;=120                                                    </td><td><span style=white-space:pre-wrap>ABNORMALITY         </span></td><td>141                                                         </td><td>NO                                                          </td><td>0.3                                                         </td><td>2                                                           </td><td>0                                                           </td><td>3                                                           </td><td>Absent                                                      </td><td>50-60                                                       </td><td><span style=white-space:pre-wrap>Normal             </span> </td></tr>\n",
       "\t<tr><td>58                                                          </td><td>FEMALE                                                      </td><td>ATYPICAL ANGINA                                             </td><td>136                                                         </td><td>319                                                         </td><td>&gt;120                                                     </td><td><span style=white-space:pre-wrap>NORMAL              </span></td><td>152                                                         </td><td>NO                                                          </td><td>0.0                                                         </td><td>2                                                           </td><td>2                                                           </td><td>2                                                           </td><td>Absent                                                      </td><td>50-60                                                       </td><td><span style=white-space:pre-wrap>Moderately high    </span> </td></tr>\n",
       "\t<tr><td>61                                                          </td><td><span style=white-space:pre-wrap>MALE  </span>              </td><td><span style=white-space:pre-wrap>ASYMPTOMATIC    </span>    </td><td>138                                                         </td><td>166                                                         </td><td>&lt;=120                                                    </td><td><span style=white-space:pre-wrap>NORMAL              </span></td><td>125                                                         </td><td>YES                                                         </td><td>3.6                                                         </td><td>1                                                           </td><td>1                                                           </td><td>2                                                           </td><td>Absent                                                      </td><td>60-70                                                       </td><td><span style=white-space:pre-wrap>Moderately high    </span> </td></tr>\n",
       "\t<tr><td>42                                                          </td><td><span style=white-space:pre-wrap>MALE  </span>              </td><td><span style=white-space:pre-wrap>ASYMPTOMATIC    </span>    </td><td>136                                                         </td><td>315                                                         </td><td>&lt;=120                                                    </td><td><span style=white-space:pre-wrap>ABNORMALITY         </span></td><td>125                                                         </td><td>YES                                                         </td><td>1.8                                                         </td><td>1                                                           </td><td>0                                                           </td><td>1                                                           </td><td>Absent                                                      </td><td>40-50                                                       </td><td><span style=white-space:pre-wrap>Moderately high    </span> </td></tr>\n",
       "\t<tr><td>52                                                          </td><td><span style=white-space:pre-wrap>MALE  </span>              </td><td><span style=white-space:pre-wrap>ASYMPTOMATIC    </span>    </td><td>128                                                         </td><td>204                                                         </td><td>&gt;120                                                     </td><td><span style=white-space:pre-wrap>ABNORMALITY         </span></td><td>156                                                         </td><td>YES                                                         </td><td>1.0                                                         </td><td>1                                                           </td><td>0                                                           </td><td>0                                                           </td><td>Absent                                                      </td><td>50-60                                                       </td><td><span style=white-space:pre-wrap>Normal             </span> </td></tr>\n",
       "\t<tr><td>59                                                          </td><td><span style=white-space:pre-wrap>MALE  </span>              </td><td>NON-ANGINAL PAIN                                            </td><td>126                                                         </td><td>218                                                         </td><td>&gt;120                                                     </td><td><span style=white-space:pre-wrap>ABNORMALITY         </span></td><td>134                                                         </td><td>NO                                                          </td><td>2.2                                                         </td><td>1                                                           </td><td>1                                                           </td><td>1                                                           </td><td>Absent                                                      </td><td>50-60                                                       </td><td><span style=white-space:pre-wrap>Normal             </span> </td></tr>\n",
       "\t<tr><td>40                                                          </td><td><span style=white-space:pre-wrap>MALE  </span>              </td><td><span style=white-space:pre-wrap>ASYMPTOMATIC    </span>    </td><td>152                                                         </td><td>223                                                         </td><td>&lt;=120                                                    </td><td><span style=white-space:pre-wrap>ABNORMALITY         </span></td><td>181                                                         </td><td>NO                                                          </td><td>0.0                                                         </td><td>2                                                           </td><td>0                                                           </td><td>3                                                           </td><td>Absent                                                      </td><td>30-40                                                       </td><td><span style=white-space:pre-wrap>Very high          </span> </td></tr>\n",
       "\t<tr><td>61                                                          </td><td><span style=white-space:pre-wrap>MALE  </span>              </td><td><span style=white-space:pre-wrap>ASYMPTOMATIC    </span>    </td><td>140                                                         </td><td>207                                                         </td><td>&lt;=120                                                    </td><td><span style=white-space:pre-wrap>NORMAL              </span></td><td>138                                                         </td><td>YES                                                         </td><td>1.9                                                         </td><td>2                                                           </td><td>1                                                           </td><td>3                                                           </td><td>Absent                                                      </td><td>60-70                                                       </td><td><span style=white-space:pre-wrap>Moderately high    </span> </td></tr>\n",
       "\t<tr><td>46                                                          </td><td><span style=white-space:pre-wrap>MALE  </span>              </td><td><span style=white-space:pre-wrap>ASYMPTOMATIC    </span>    </td><td>140                                                         </td><td>311                                                         </td><td>&lt;=120                                                    </td><td><span style=white-space:pre-wrap>ABNORMALITY         </span></td><td>120                                                         </td><td>YES                                                         </td><td>1.8                                                         </td><td>1                                                           </td><td>2                                                           </td><td>3                                                           </td><td>Absent                                                      </td><td>40-50                                                       </td><td><span style=white-space:pre-wrap>Moderately high    </span> </td></tr>\n",
       "\t<tr><td>59                                                          </td><td><span style=white-space:pre-wrap>MALE  </span>              </td><td><span style=white-space:pre-wrap>ASYMPTOMATIC    </span>    </td><td>134                                                         </td><td>204                                                         </td><td>&lt;=120                                                    </td><td><span style=white-space:pre-wrap>ABNORMALITY         </span></td><td>162                                                         </td><td>NO                                                          </td><td>0.8                                                         </td><td>2                                                           </td><td>2                                                           </td><td>2                                                           </td><td>Absent                                                      </td><td>50-60                                                       </td><td><span style=white-space:pre-wrap>Moderately high    </span> </td></tr>\n",
       "\t<tr><td>57                                                          </td><td><span style=white-space:pre-wrap>MALE  </span>              </td><td>ATYPICAL ANGINA                                             </td><td>154                                                         </td><td>232                                                         </td><td>&lt;=120                                                    </td><td><span style=white-space:pre-wrap>NORMAL              </span></td><td>164                                                         </td><td>NO                                                          </td><td>0.0                                                         </td><td>2                                                           </td><td>1                                                           </td><td>2                                                           </td><td>Absent                                                      </td><td>50-60                                                       </td><td><span style=white-space:pre-wrap>Very high          </span> </td></tr>\n",
       "\t<tr><td>57                                                          </td><td><span style=white-space:pre-wrap>MALE  </span>              </td><td><span style=white-space:pre-wrap>ASYMPTOMATIC    </span>    </td><td>110                                                         </td><td>335                                                         </td><td>&lt;=120                                                    </td><td><span style=white-space:pre-wrap>ABNORMALITY         </span></td><td>143                                                         </td><td>YES                                                         </td><td>3.0                                                         </td><td>1                                                           </td><td>1                                                           </td><td>3                                                           </td><td>Absent                                                      </td><td>50-60                                                       </td><td><span style=white-space:pre-wrap>Normal             </span> </td></tr>\n",
       "\t<tr><td>55                                                         </td><td>FEMALE                                                     </td><td><span style=white-space:pre-wrap>ASYMPTOMATIC    </span>   </td><td>128                                                        </td><td>205                                                        </td><td>&lt;=120                                                   </td><td>PROBABLE OR DEFINITE                                       </td><td>130                                                        </td><td>YES                                                        </td><td>2.0                                                        </td><td>1                                                          </td><td>1                                                          </td><td>3                                                          </td><td>Absent                                                     </td><td>50-60                                                      </td><td><span style=white-space:pre-wrap>Normal             </span></td></tr>\n",
       "\t<tr><td>61                                                          </td><td><span style=white-space:pre-wrap>MALE  </span>              </td><td><span style=white-space:pre-wrap>ASYMPTOMATIC    </span>    </td><td>148                                                         </td><td>203                                                         </td><td>&lt;=120                                                    </td><td><span style=white-space:pre-wrap>ABNORMALITY         </span></td><td>161                                                         </td><td>NO                                                          </td><td>0.0                                                         </td><td>2                                                           </td><td>1                                                           </td><td>3                                                           </td><td>Absent                                                      </td><td>60-70                                                       </td><td><span style=white-space:pre-wrap>Very high          </span> </td></tr>\n",
       "\t<tr><td>58                                                         </td><td><span style=white-space:pre-wrap>MALE  </span>             </td><td><span style=white-space:pre-wrap>ASYMPTOMATIC    </span>   </td><td>114                                                        </td><td>318                                                        </td><td>&lt;=120                                                   </td><td>PROBABLE OR DEFINITE                                       </td><td>140                                                        </td><td>NO                                                         </td><td>4.4                                                        </td><td>0                                                          </td><td>3                                                          </td><td>1                                                          </td><td>Absent                                                     </td><td>50-60                                                      </td><td><span style=white-space:pre-wrap>Normal             </span></td></tr>\n",
       "\t<tr><td>58                                                          </td><td>FEMALE                                                      </td><td><span style=white-space:pre-wrap>ASYMPTOMATIC    </span>    </td><td>170                                                         </td><td>225                                                         </td><td>&gt;120                                                     </td><td><span style=white-space:pre-wrap>NORMAL              </span></td><td>146                                                         </td><td>YES                                                         </td><td>2.8                                                         </td><td>1                                                           </td><td>2                                                           </td><td>1                                                           </td><td>Absent                                                      </td><td>50-60                                                       </td><td>&gt;160 extreamly high                                      </td></tr>\n",
       "\t<tr><td>67                                                          </td><td><span style=white-space:pre-wrap>MALE  </span>              </td><td>NON-ANGINAL PAIN                                            </td><td>152                                                         </td><td>212                                                         </td><td>&lt;=120                                                    </td><td><span style=white-space:pre-wrap>NORMAL              </span></td><td>150                                                         </td><td>NO                                                          </td><td>0.8                                                         </td><td>1                                                           </td><td>0                                                           </td><td>3                                                           </td><td>Absent                                                      </td><td>60-70                                                       </td><td><span style=white-space:pre-wrap>Very high          </span> </td></tr>\n",
       "\t<tr><td>44                                                          </td><td><span style=white-space:pre-wrap>MALE  </span>              </td><td><span style=white-space:pre-wrap>ASYMPTOMATIC    </span>    </td><td>120                                                         </td><td>169                                                         </td><td>&lt;=120                                                    </td><td><span style=white-space:pre-wrap>ABNORMALITY         </span></td><td>144                                                         </td><td>YES                                                         </td><td>2.8                                                         </td><td>0                                                           </td><td>0                                                           </td><td>1                                                           </td><td>Absent                                                      </td><td>40-50                                                       </td><td><span style=white-space:pre-wrap>Normal             </span> </td></tr>\n",
       "\t<tr><td>63                                                          </td><td><span style=white-space:pre-wrap>MALE  </span>              </td><td><span style=white-space:pre-wrap>ASYMPTOMATIC    </span>    </td><td>140                                                         </td><td>187                                                         </td><td>&lt;=120                                                    </td><td><span style=white-space:pre-wrap>NORMAL              </span></td><td>144                                                         </td><td>YES                                                         </td><td>4.0                                                         </td><td>2                                                           </td><td>2                                                           </td><td>3                                                           </td><td>Absent                                                      </td><td>60-70                                                       </td><td><span style=white-space:pre-wrap>Moderately high    </span> </td></tr>\n",
       "\t<tr><td>63                                                          </td><td>FEMALE                                                      </td><td><span style=white-space:pre-wrap>ASYMPTOMATIC    </span>    </td><td>124                                                         </td><td>197                                                         </td><td>&lt;=120                                                    </td><td><span style=white-space:pre-wrap>ABNORMALITY         </span></td><td>136                                                         </td><td>YES                                                         </td><td>0.0                                                         </td><td>1                                                           </td><td>0                                                           </td><td>2                                                           </td><td>Absent                                                      </td><td>60-70                                                       </td><td><span style=white-space:pre-wrap>Normal             </span> </td></tr>\n",
       "\t<tr><td>59                                                          </td><td><span style=white-space:pre-wrap>MALE  </span>              </td><td><span style=white-space:pre-wrap>ASYMPTOMATIC    </span>    </td><td>164                                                         </td><td>176                                                         </td><td>&gt;120                                                     </td><td><span style=white-space:pre-wrap>NORMAL              </span></td><td> 90                                                         </td><td>NO                                                          </td><td>1.0                                                         </td><td>1                                                           </td><td>2                                                           </td><td>1                                                           </td><td>Absent                                                      </td><td>50-60                                                       </td><td>&gt;160 extreamly high                                      </td></tr>\n",
       "\t<tr><td>57                                                          </td><td>FEMALE                                                      </td><td><span style=white-space:pre-wrap>ASYMPTOMATIC    </span>    </td><td>140                                                         </td><td>241                                                         </td><td>&lt;=120                                                    </td><td><span style=white-space:pre-wrap>ABNORMALITY         </span></td><td>123                                                         </td><td>YES                                                         </td><td>0.2                                                         </td><td>1                                                           </td><td>0                                                           </td><td>3                                                           </td><td>Absent                                                      </td><td>50-60                                                       </td><td><span style=white-space:pre-wrap>Moderately high    </span> </td></tr>\n",
       "\t<tr><td>45                                                          </td><td><span style=white-space:pre-wrap>MALE  </span>              </td><td><span style=white-space:pre-wrap>ASYMPTOMATIC    </span>    </td><td>110                                                         </td><td>264                                                         </td><td>&lt;=120                                                    </td><td><span style=white-space:pre-wrap>ABNORMALITY         </span></td><td>132                                                         </td><td>NO                                                          </td><td>1.2                                                         </td><td>1                                                           </td><td>0                                                           </td><td>3                                                           </td><td>Absent                                                      </td><td>40-50                                                       </td><td><span style=white-space:pre-wrap>Normal             </span> </td></tr>\n",
       "\t<tr><td>68                                                          </td><td><span style=white-space:pre-wrap>MALE  </span>              </td><td><span style=white-space:pre-wrap>ASYMPTOMATIC    </span>    </td><td>144                                                         </td><td>193                                                         </td><td>&gt;120                                                     </td><td><span style=white-space:pre-wrap>ABNORMALITY         </span></td><td>141                                                         </td><td>NO                                                          </td><td>3.4                                                         </td><td>1                                                           </td><td>2                                                           </td><td>3                                                           </td><td>Absent                                                      </td><td>60-70                                                       </td><td><span style=white-space:pre-wrap>Very high          </span> </td></tr>\n",
       "\t<tr><td>57                                                          </td><td><span style=white-space:pre-wrap>MALE  </span>              </td><td><span style=white-space:pre-wrap>ASYMPTOMATIC    </span>    </td><td>130                                                         </td><td>131                                                         </td><td>&lt;=120                                                    </td><td><span style=white-space:pre-wrap>ABNORMALITY         </span></td><td>115                                                         </td><td>YES                                                         </td><td>1.2                                                         </td><td>1                                                           </td><td>1                                                           </td><td>3                                                           </td><td>Absent                                                      </td><td>50-60                                                       </td><td><span style=white-space:pre-wrap>Normal             </span> </td></tr>\n",
       "\t<tr><td>57                                                          </td><td>FEMALE                                                      </td><td>ATYPICAL ANGINA                                             </td><td>130                                                         </td><td>236                                                         </td><td>&lt;=120                                                    </td><td><span style=white-space:pre-wrap>NORMAL              </span></td><td>174                                                         </td><td>NO                                                          </td><td>0.0                                                         </td><td>1                                                           </td><td>1                                                           </td><td>2                                                           </td><td>Absent                                                      </td><td>50-60                                                       </td><td><span style=white-space:pre-wrap>Normal             </span> </td></tr>\n",
       "</tbody>\n",
       "</table>\n"
      ],
      "text/latex": [
       "\\begin{tabular}{r|llllllllllllllll}\n",
       " ï..age & sex & cp & trestbps & chol & fbs & restecg & thalach & exang & oldpeak & slope & ca & thal & target & age\\_bar & resting\\_bps\\\\\n",
       "\\hline\n",
       "\t 63                  & MALE                & ASYMPTOMATIC        & 145                 & 233                 & >120                & NORMAL              & 150                 & NO                  & 2.3                 & 0                   & 0                   & 1                   & Present             & 60-70               & Very high          \\\\\n",
       "\t 37                  & MALE                & NON-ANGINAL PAIN    & 130                 & 250                 & <=120               & ABNORMALITY         & 187                 & NO                  & 3.5                 & 0                   & 0                   & 2                   & Present             & 30-40               & Normal             \\\\\n",
       "\t 41                  & FEMALE              & ATYPICAL ANGINA     & 130                 & 204                 & <=120               & NORMAL              & 172                 & NO                  & 1.4                 & 2                   & 0                   & 2                   & Present             & 40-50               & Normal             \\\\\n",
       "\t 56                  & MALE                & ATYPICAL ANGINA     & 120                 & 236                 & <=120               & ABNORMALITY         & 178                 & NO                  & 0.8                 & 2                   & 0                   & 2                   & Present             & 50-60               & Normal             \\\\\n",
       "\t 57                  & FEMALE              & ASYMPTOMATIC        & 120                 & 354                 & <=120               & ABNORMALITY         & 163                 & YES                 & 0.6                 & 2                   & 0                   & 2                   & Present             & 50-60               & Normal             \\\\\n",
       "\t 57                  & MALE                & ASYMPTOMATIC        & 140                 & 192                 & <=120               & ABNORMALITY         & 148                 & NO                  & 0.4                 & 1                   & 0                   & 1                   & Present             & 50-60               & Moderately high    \\\\\n",
       "\t 56                  & FEMALE              & ATYPICAL ANGINA     & 140                 & 294                 & <=120               & NORMAL              & 153                 & NO                  & 1.3                 & 1                   & 0                   & 2                   & Present             & 50-60               & Moderately high    \\\\\n",
       "\t 44                  & MALE                & ATYPICAL ANGINA     & 120                 & 263                 & <=120               & ABNORMALITY         & 173                 & NO                  & 0.0                 & 2                   & 0                   & 3                   & Present             & 40-50               & Normal             \\\\\n",
       "\t 52                  & MALE                & NON-ANGINAL PAIN    & 172                 & 199                 & >120                & ABNORMALITY         & 162                 & NO                  & 0.5                 & 2                   & 0                   & 3                   & Present             & 50-60               & >160 extreamly high\\\\\n",
       "\t 57                  & MALE                & NON-ANGINAL PAIN    & 150                 & 168                 & <=120               & ABNORMALITY         & 174                 & NO                  & 1.6                 & 2                   & 0                   & 2                   & Present             & 50-60               & Very high          \\\\\n",
       "\t 54                  & MALE                & ASYMPTOMATIC        & 140                 & 239                 & <=120               & ABNORMALITY         & 160                 & NO                  & 1.2                 & 2                   & 0                   & 2                   & Present             & 50-60               & Moderately high    \\\\\n",
       "\t 48                  & FEMALE              & NON-ANGINAL PAIN    & 130                 & 275                 & <=120               & ABNORMALITY         & 139                 & NO                  & 0.2                 & 2                   & 0                   & 2                   & Present             & 40-50               & Normal             \\\\\n",
       "\t 49                  & MALE                & ATYPICAL ANGINA     & 130                 & 266                 & <=120               & ABNORMALITY         & 171                 & NO                  & 0.6                 & 2                   & 0                   & 2                   & Present             & 40-50               & Normal             \\\\\n",
       "\t 64                  & MALE                & ASYMPTOMATIC        & 110                 & 211                 & <=120               & NORMAL              & 144                 & YES                 & 1.8                 & 1                   & 0                   & 2                   & Present             & 60-70               & Normal             \\\\\n",
       "\t 58                  & FEMALE              & ASYMPTOMATIC        & 150                 & 283                 & >120                & NORMAL              & 162                 & NO                  & 1.0                 & 2                   & 0                   & 2                   & Present             & 50-60               & Very high          \\\\\n",
       "\t 50                  & FEMALE              & NON-ANGINAL PAIN    & 120                 & 219                 & <=120               & ABNORMALITY         & 158                 & NO                  & 1.6                 & 1                   & 0                   & 2                   & Present             & 40-50               & Normal             \\\\\n",
       "\t 58                  & FEMALE              & NON-ANGINAL PAIN    & 120                 & 340                 & <=120               & ABNORMALITY         & 172                 & NO                  & 0.0                 & 2                   & 0                   & 2                   & Present             & 50-60               & Normal             \\\\\n",
       "\t 66                  & FEMALE              & ASYMPTOMATIC        & 150                 & 226                 & <=120               & ABNORMALITY         & 114                 & NO                  & 2.6                 & 0                   & 0                   & 2                   & Present             & 60-70               & Very high          \\\\\n",
       "\t 43                  & MALE                & ASYMPTOMATIC        & 150                 & 247                 & <=120               & ABNORMALITY         & 171                 & NO                  & 1.5                 & 2                   & 0                   & 2                   & Present             & 40-50               & Very high          \\\\\n",
       "\t 69                  & FEMALE              & ASYMPTOMATIC        & 140                 & 239                 & <=120               & ABNORMALITY         & 151                 & NO                  & 1.8                 & 2                   & 2                   & 2                   & Present             & 60-70               & Moderately high    \\\\\n",
       "\t 59                  & MALE                & ASYMPTOMATIC        & 135                 & 234                 & <=120               & ABNORMALITY         & 161                 & NO                  & 0.5                 & 1                   & 0                   & 3                   & Present             & 50-60               & Moderately high    \\\\\n",
       "\t 44                  & MALE                & NON-ANGINAL PAIN    & 130                 & 233                 & <=120               & ABNORMALITY         & 179                 & YES                 & 0.4                 & 2                   & 0                   & 2                   & Present             & 40-50               & Normal             \\\\\n",
       "\t 42                  & MALE                & ASYMPTOMATIC        & 140                 & 226                 & <=120               & ABNORMALITY         & 178                 & NO                  & 0.0                 & 2                   & 0                   & 2                   & Present             & 40-50               & Moderately high    \\\\\n",
       "\t 61                  & MALE                & NON-ANGINAL PAIN    & 150                 & 243                 & >120                & ABNORMALITY         & 137                 & YES                 & 1.0                 & 1                   & 0                   & 2                   & Present             & 60-70               & Very high          \\\\\n",
       "\t 40                  & MALE                & ASYMPTOMATIC        & 140                 & 199                 & <=120               & ABNORMALITY         & 178                 & YES                 & 1.4                 & 2                   & 0                   & 3                   & Present             & 30-40               & Moderately high    \\\\\n",
       "\t 71                  & FEMALE              & ATYPICAL ANGINA     & 160                 & 302                 & <=120               & ABNORMALITY         & 162                 & NO                  & 0.4                 & 2                   & 2                   & 2                   & Present             & >70 years           & Very high          \\\\\n",
       "\t 59                  & MALE                & NON-ANGINAL PAIN    & 150                 & 212                 & >120                & ABNORMALITY         & 157                 & NO                  & 1.6                 & 2                   & 0                   & 2                   & Present             & 50-60               & Very high          \\\\\n",
       "\t 51                  & MALE                & NON-ANGINAL PAIN    & 110                 & 175                 & <=120               & ABNORMALITY         & 123                 & NO                  & 0.6                 & 2                   & 0                   & 2                   & Present             & 50-60               & Normal             \\\\\n",
       "\t 65                  & FEMALE              & NON-ANGINAL PAIN    & 140                 & 417                 & >120                & NORMAL              & 157                 & NO                  & 0.8                 & 2                   & 1                   & 2                   & Present             & 60-70               & Moderately high    \\\\\n",
       "\t 53                  & MALE                & NON-ANGINAL PAIN    & 130                 & 197                 & >120                & NORMAL              & 152                 & NO                  & 1.2                 & 0                   & 0                   & 2                   & Present             & 50-60               & Normal             \\\\\n",
       "\t ... & ... & ... & ... & ... & ... & ... & ... & ... & ... & ... & ... & ... & ... & ... & ...\\\\\n",
       "\t 58                   & MALE                 & ASYMPTOMATIC         & 100                  & 234                  & <=120                & ABNORMALITY          & 156                  & NO                   & 0.1                  & 2                    & 1                    & 3                    & Absent               & 50-60                & Normal              \\\\\n",
       "\t 47                   & MALE                 & ASYMPTOMATIC         & 110                  & 275                  & <=120                & NORMAL               & 118                  & YES                  & 1.0                  & 1                    & 1                    & 2                    & Absent               & 40-50                & Normal              \\\\\n",
       "\t 52                   & MALE                 & ASYMPTOMATIC         & 125                  & 212                  & <=120                & ABNORMALITY          & 168                  & NO                   & 1.0                  & 2                    & 2                    & 3                    & Absent               & 50-60                & Normal              \\\\\n",
       "\t 58                   & MALE                 & ASYMPTOMATIC         & 146                  & 218                  & <=120                & ABNORMALITY          & 105                  & NO                   & 2.0                  & 1                    & 1                    & 3                    & Absent               & 50-60                & Very high           \\\\\n",
       "\t 57                   & MALE                 & ATYPICAL ANGINA      & 124                  & 261                  & <=120                & ABNORMALITY          & 141                  & NO                   & 0.3                  & 2                    & 0                    & 3                    & Absent               & 50-60                & Normal              \\\\\n",
       "\t 58                   & FEMALE               & ATYPICAL ANGINA      & 136                  & 319                  & >120                 & NORMAL               & 152                  & NO                   & 0.0                  & 2                    & 2                    & 2                    & Absent               & 50-60                & Moderately high     \\\\\n",
       "\t 61                   & MALE                 & ASYMPTOMATIC         & 138                  & 166                  & <=120                & NORMAL               & 125                  & YES                  & 3.6                  & 1                    & 1                    & 2                    & Absent               & 60-70                & Moderately high     \\\\\n",
       "\t 42                   & MALE                 & ASYMPTOMATIC         & 136                  & 315                  & <=120                & ABNORMALITY          & 125                  & YES                  & 1.8                  & 1                    & 0                    & 1                    & Absent               & 40-50                & Moderately high     \\\\\n",
       "\t 52                   & MALE                 & ASYMPTOMATIC         & 128                  & 204                  & >120                 & ABNORMALITY          & 156                  & YES                  & 1.0                  & 1                    & 0                    & 0                    & Absent               & 50-60                & Normal              \\\\\n",
       "\t 59                   & MALE                 & NON-ANGINAL PAIN     & 126                  & 218                  & >120                 & ABNORMALITY          & 134                  & NO                   & 2.2                  & 1                    & 1                    & 1                    & Absent               & 50-60                & Normal              \\\\\n",
       "\t 40                   & MALE                 & ASYMPTOMATIC         & 152                  & 223                  & <=120                & ABNORMALITY          & 181                  & NO                   & 0.0                  & 2                    & 0                    & 3                    & Absent               & 30-40                & Very high           \\\\\n",
       "\t 61                   & MALE                 & ASYMPTOMATIC         & 140                  & 207                  & <=120                & NORMAL               & 138                  & YES                  & 1.9                  & 2                    & 1                    & 3                    & Absent               & 60-70                & Moderately high     \\\\\n",
       "\t 46                   & MALE                 & ASYMPTOMATIC         & 140                  & 311                  & <=120                & ABNORMALITY          & 120                  & YES                  & 1.8                  & 1                    & 2                    & 3                    & Absent               & 40-50                & Moderately high     \\\\\n",
       "\t 59                   & MALE                 & ASYMPTOMATIC         & 134                  & 204                  & <=120                & ABNORMALITY          & 162                  & NO                   & 0.8                  & 2                    & 2                    & 2                    & Absent               & 50-60                & Moderately high     \\\\\n",
       "\t 57                   & MALE                 & ATYPICAL ANGINA      & 154                  & 232                  & <=120                & NORMAL               & 164                  & NO                   & 0.0                  & 2                    & 1                    & 2                    & Absent               & 50-60                & Very high           \\\\\n",
       "\t 57                   & MALE                 & ASYMPTOMATIC         & 110                  & 335                  & <=120                & ABNORMALITY          & 143                  & YES                  & 3.0                  & 1                    & 1                    & 3                    & Absent               & 50-60                & Normal              \\\\\n",
       "\t 55                   & FEMALE               & ASYMPTOMATIC         & 128                  & 205                  & <=120                & PROBABLE OR DEFINITE & 130                  & YES                  & 2.0                  & 1                    & 1                    & 3                    & Absent               & 50-60                & Normal              \\\\\n",
       "\t 61                   & MALE                 & ASYMPTOMATIC         & 148                  & 203                  & <=120                & ABNORMALITY          & 161                  & NO                   & 0.0                  & 2                    & 1                    & 3                    & Absent               & 60-70                & Very high           \\\\\n",
       "\t 58                   & MALE                 & ASYMPTOMATIC         & 114                  & 318                  & <=120                & PROBABLE OR DEFINITE & 140                  & NO                   & 4.4                  & 0                    & 3                    & 1                    & Absent               & 50-60                & Normal              \\\\\n",
       "\t 58                   & FEMALE               & ASYMPTOMATIC         & 170                  & 225                  & >120                 & NORMAL               & 146                  & YES                  & 2.8                  & 1                    & 2                    & 1                    & Absent               & 50-60                & >160 extreamly high \\\\\n",
       "\t 67                   & MALE                 & NON-ANGINAL PAIN     & 152                  & 212                  & <=120                & NORMAL               & 150                  & NO                   & 0.8                  & 1                    & 0                    & 3                    & Absent               & 60-70                & Very high           \\\\\n",
       "\t 44                   & MALE                 & ASYMPTOMATIC         & 120                  & 169                  & <=120                & ABNORMALITY          & 144                  & YES                  & 2.8                  & 0                    & 0                    & 1                    & Absent               & 40-50                & Normal              \\\\\n",
       "\t 63                   & MALE                 & ASYMPTOMATIC         & 140                  & 187                  & <=120                & NORMAL               & 144                  & YES                  & 4.0                  & 2                    & 2                    & 3                    & Absent               & 60-70                & Moderately high     \\\\\n",
       "\t 63                   & FEMALE               & ASYMPTOMATIC         & 124                  & 197                  & <=120                & ABNORMALITY          & 136                  & YES                  & 0.0                  & 1                    & 0                    & 2                    & Absent               & 60-70                & Normal              \\\\\n",
       "\t 59                   & MALE                 & ASYMPTOMATIC         & 164                  & 176                  & >120                 & NORMAL               &  90                  & NO                   & 1.0                  & 1                    & 2                    & 1                    & Absent               & 50-60                & >160 extreamly high \\\\\n",
       "\t 57                   & FEMALE               & ASYMPTOMATIC         & 140                  & 241                  & <=120                & ABNORMALITY          & 123                  & YES                  & 0.2                  & 1                    & 0                    & 3                    & Absent               & 50-60                & Moderately high     \\\\\n",
       "\t 45                   & MALE                 & ASYMPTOMATIC         & 110                  & 264                  & <=120                & ABNORMALITY          & 132                  & NO                   & 1.2                  & 1                    & 0                    & 3                    & Absent               & 40-50                & Normal              \\\\\n",
       "\t 68                   & MALE                 & ASYMPTOMATIC         & 144                  & 193                  & >120                 & ABNORMALITY          & 141                  & NO                   & 3.4                  & 1                    & 2                    & 3                    & Absent               & 60-70                & Very high           \\\\\n",
       "\t 57                   & MALE                 & ASYMPTOMATIC         & 130                  & 131                  & <=120                & ABNORMALITY          & 115                  & YES                  & 1.2                  & 1                    & 1                    & 3                    & Absent               & 50-60                & Normal              \\\\\n",
       "\t 57                   & FEMALE               & ATYPICAL ANGINA      & 130                  & 236                  & <=120                & NORMAL               & 174                  & NO                   & 0.0                  & 1                    & 1                    & 2                    & Absent               & 50-60                & Normal              \\\\\n",
       "\\end{tabular}\n"
      ],
      "text/markdown": [
       "\n",
       "| ï..age | sex | cp | trestbps | chol | fbs | restecg | thalach | exang | oldpeak | slope | ca | thal | target | age_bar | resting_bps |\n",
       "|---|---|---|---|---|---|---|---|---|---|---|---|---|---|---|---|\n",
       "| 63                  | MALE                | ASYMPTOMATIC        | 145                 | 233                 | >120                | NORMAL              | 150                 | NO                  | 2.3                 | 0                   | 0                   | 1                   | Present             | 60-70               | Very high           |\n",
       "| 37                  | MALE                | NON-ANGINAL PAIN    | 130                 | 250                 | <=120               | ABNORMALITY         | 187                 | NO                  | 3.5                 | 0                   | 0                   | 2                   | Present             | 30-40               | Normal              |\n",
       "| 41                  | FEMALE              | ATYPICAL ANGINA     | 130                 | 204                 | <=120               | NORMAL              | 172                 | NO                  | 1.4                 | 2                   | 0                   | 2                   | Present             | 40-50               | Normal              |\n",
       "| 56                  | MALE                | ATYPICAL ANGINA     | 120                 | 236                 | <=120               | ABNORMALITY         | 178                 | NO                  | 0.8                 | 2                   | 0                   | 2                   | Present             | 50-60               | Normal              |\n",
       "| 57                  | FEMALE              | ASYMPTOMATIC        | 120                 | 354                 | <=120               | ABNORMALITY         | 163                 | YES                 | 0.6                 | 2                   | 0                   | 2                   | Present             | 50-60               | Normal              |\n",
       "| 57                  | MALE                | ASYMPTOMATIC        | 140                 | 192                 | <=120               | ABNORMALITY         | 148                 | NO                  | 0.4                 | 1                   | 0                   | 1                   | Present             | 50-60               | Moderately high     |\n",
       "| 56                  | FEMALE              | ATYPICAL ANGINA     | 140                 | 294                 | <=120               | NORMAL              | 153                 | NO                  | 1.3                 | 1                   | 0                   | 2                   | Present             | 50-60               | Moderately high     |\n",
       "| 44                  | MALE                | ATYPICAL ANGINA     | 120                 | 263                 | <=120               | ABNORMALITY         | 173                 | NO                  | 0.0                 | 2                   | 0                   | 3                   | Present             | 40-50               | Normal              |\n",
       "| 52                  | MALE                | NON-ANGINAL PAIN    | 172                 | 199                 | >120                | ABNORMALITY         | 162                 | NO                  | 0.5                 | 2                   | 0                   | 3                   | Present             | 50-60               | >160 extreamly high |\n",
       "| 57                  | MALE                | NON-ANGINAL PAIN    | 150                 | 168                 | <=120               | ABNORMALITY         | 174                 | NO                  | 1.6                 | 2                   | 0                   | 2                   | Present             | 50-60               | Very high           |\n",
       "| 54                  | MALE                | ASYMPTOMATIC        | 140                 | 239                 | <=120               | ABNORMALITY         | 160                 | NO                  | 1.2                 | 2                   | 0                   | 2                   | Present             | 50-60               | Moderately high     |\n",
       "| 48                  | FEMALE              | NON-ANGINAL PAIN    | 130                 | 275                 | <=120               | ABNORMALITY         | 139                 | NO                  | 0.2                 | 2                   | 0                   | 2                   | Present             | 40-50               | Normal              |\n",
       "| 49                  | MALE                | ATYPICAL ANGINA     | 130                 | 266                 | <=120               | ABNORMALITY         | 171                 | NO                  | 0.6                 | 2                   | 0                   | 2                   | Present             | 40-50               | Normal              |\n",
       "| 64                  | MALE                | ASYMPTOMATIC        | 110                 | 211                 | <=120               | NORMAL              | 144                 | YES                 | 1.8                 | 1                   | 0                   | 2                   | Present             | 60-70               | Normal              |\n",
       "| 58                  | FEMALE              | ASYMPTOMATIC        | 150                 | 283                 | >120                | NORMAL              | 162                 | NO                  | 1.0                 | 2                   | 0                   | 2                   | Present             | 50-60               | Very high           |\n",
       "| 50                  | FEMALE              | NON-ANGINAL PAIN    | 120                 | 219                 | <=120               | ABNORMALITY         | 158                 | NO                  | 1.6                 | 1                   | 0                   | 2                   | Present             | 40-50               | Normal              |\n",
       "| 58                  | FEMALE              | NON-ANGINAL PAIN    | 120                 | 340                 | <=120               | ABNORMALITY         | 172                 | NO                  | 0.0                 | 2                   | 0                   | 2                   | Present             | 50-60               | Normal              |\n",
       "| 66                  | FEMALE              | ASYMPTOMATIC        | 150                 | 226                 | <=120               | ABNORMALITY         | 114                 | NO                  | 2.6                 | 0                   | 0                   | 2                   | Present             | 60-70               | Very high           |\n",
       "| 43                  | MALE                | ASYMPTOMATIC        | 150                 | 247                 | <=120               | ABNORMALITY         | 171                 | NO                  | 1.5                 | 2                   | 0                   | 2                   | Present             | 40-50               | Very high           |\n",
       "| 69                  | FEMALE              | ASYMPTOMATIC        | 140                 | 239                 | <=120               | ABNORMALITY         | 151                 | NO                  | 1.8                 | 2                   | 2                   | 2                   | Present             | 60-70               | Moderately high     |\n",
       "| 59                  | MALE                | ASYMPTOMATIC        | 135                 | 234                 | <=120               | ABNORMALITY         | 161                 | NO                  | 0.5                 | 1                   | 0                   | 3                   | Present             | 50-60               | Moderately high     |\n",
       "| 44                  | MALE                | NON-ANGINAL PAIN    | 130                 | 233                 | <=120               | ABNORMALITY         | 179                 | YES                 | 0.4                 | 2                   | 0                   | 2                   | Present             | 40-50               | Normal              |\n",
       "| 42                  | MALE                | ASYMPTOMATIC        | 140                 | 226                 | <=120               | ABNORMALITY         | 178                 | NO                  | 0.0                 | 2                   | 0                   | 2                   | Present             | 40-50               | Moderately high     |\n",
       "| 61                  | MALE                | NON-ANGINAL PAIN    | 150                 | 243                 | >120                | ABNORMALITY         | 137                 | YES                 | 1.0                 | 1                   | 0                   | 2                   | Present             | 60-70               | Very high           |\n",
       "| 40                  | MALE                | ASYMPTOMATIC        | 140                 | 199                 | <=120               | ABNORMALITY         | 178                 | YES                 | 1.4                 | 2                   | 0                   | 3                   | Present             | 30-40               | Moderately high     |\n",
       "| 71                  | FEMALE              | ATYPICAL ANGINA     | 160                 | 302                 | <=120               | ABNORMALITY         | 162                 | NO                  | 0.4                 | 2                   | 2                   | 2                   | Present             | >70 years           | Very high           |\n",
       "| 59                  | MALE                | NON-ANGINAL PAIN    | 150                 | 212                 | >120                | ABNORMALITY         | 157                 | NO                  | 1.6                 | 2                   | 0                   | 2                   | Present             | 50-60               | Very high           |\n",
       "| 51                  | MALE                | NON-ANGINAL PAIN    | 110                 | 175                 | <=120               | ABNORMALITY         | 123                 | NO                  | 0.6                 | 2                   | 0                   | 2                   | Present             | 50-60               | Normal              |\n",
       "| 65                  | FEMALE              | NON-ANGINAL PAIN    | 140                 | 417                 | >120                | NORMAL              | 157                 | NO                  | 0.8                 | 2                   | 1                   | 2                   | Present             | 60-70               | Moderately high     |\n",
       "| 53                  | MALE                | NON-ANGINAL PAIN    | 130                 | 197                 | >120                | NORMAL              | 152                 | NO                  | 1.2                 | 0                   | 0                   | 2                   | Present             | 50-60               | Normal              |\n",
       "| ... | ... | ... | ... | ... | ... | ... | ... | ... | ... | ... | ... | ... | ... | ... | ... |\n",
       "| 58                   | MALE                 | ASYMPTOMATIC         | 100                  | 234                  | <=120                | ABNORMALITY          | 156                  | NO                   | 0.1                  | 2                    | 1                    | 3                    | Absent               | 50-60                | Normal               |\n",
       "| 47                   | MALE                 | ASYMPTOMATIC         | 110                  | 275                  | <=120                | NORMAL               | 118                  | YES                  | 1.0                  | 1                    | 1                    | 2                    | Absent               | 40-50                | Normal               |\n",
       "| 52                   | MALE                 | ASYMPTOMATIC         | 125                  | 212                  | <=120                | ABNORMALITY          | 168                  | NO                   | 1.0                  | 2                    | 2                    | 3                    | Absent               | 50-60                | Normal               |\n",
       "| 58                   | MALE                 | ASYMPTOMATIC         | 146                  | 218                  | <=120                | ABNORMALITY          | 105                  | NO                   | 2.0                  | 1                    | 1                    | 3                    | Absent               | 50-60                | Very high            |\n",
       "| 57                   | MALE                 | ATYPICAL ANGINA      | 124                  | 261                  | <=120                | ABNORMALITY          | 141                  | NO                   | 0.3                  | 2                    | 0                    | 3                    | Absent               | 50-60                | Normal               |\n",
       "| 58                   | FEMALE               | ATYPICAL ANGINA      | 136                  | 319                  | >120                 | NORMAL               | 152                  | NO                   | 0.0                  | 2                    | 2                    | 2                    | Absent               | 50-60                | Moderately high      |\n",
       "| 61                   | MALE                 | ASYMPTOMATIC         | 138                  | 166                  | <=120                | NORMAL               | 125                  | YES                  | 3.6                  | 1                    | 1                    | 2                    | Absent               | 60-70                | Moderately high      |\n",
       "| 42                   | MALE                 | ASYMPTOMATIC         | 136                  | 315                  | <=120                | ABNORMALITY          | 125                  | YES                  | 1.8                  | 1                    | 0                    | 1                    | Absent               | 40-50                | Moderately high      |\n",
       "| 52                   | MALE                 | ASYMPTOMATIC         | 128                  | 204                  | >120                 | ABNORMALITY          | 156                  | YES                  | 1.0                  | 1                    | 0                    | 0                    | Absent               | 50-60                | Normal               |\n",
       "| 59                   | MALE                 | NON-ANGINAL PAIN     | 126                  | 218                  | >120                 | ABNORMALITY          | 134                  | NO                   | 2.2                  | 1                    | 1                    | 1                    | Absent               | 50-60                | Normal               |\n",
       "| 40                   | MALE                 | ASYMPTOMATIC         | 152                  | 223                  | <=120                | ABNORMALITY          | 181                  | NO                   | 0.0                  | 2                    | 0                    | 3                    | Absent               | 30-40                | Very high            |\n",
       "| 61                   | MALE                 | ASYMPTOMATIC         | 140                  | 207                  | <=120                | NORMAL               | 138                  | YES                  | 1.9                  | 2                    | 1                    | 3                    | Absent               | 60-70                | Moderately high      |\n",
       "| 46                   | MALE                 | ASYMPTOMATIC         | 140                  | 311                  | <=120                | ABNORMALITY          | 120                  | YES                  | 1.8                  | 1                    | 2                    | 3                    | Absent               | 40-50                | Moderately high      |\n",
       "| 59                   | MALE                 | ASYMPTOMATIC         | 134                  | 204                  | <=120                | ABNORMALITY          | 162                  | NO                   | 0.8                  | 2                    | 2                    | 2                    | Absent               | 50-60                | Moderately high      |\n",
       "| 57                   | MALE                 | ATYPICAL ANGINA      | 154                  | 232                  | <=120                | NORMAL               | 164                  | NO                   | 0.0                  | 2                    | 1                    | 2                    | Absent               | 50-60                | Very high            |\n",
       "| 57                   | MALE                 | ASYMPTOMATIC         | 110                  | 335                  | <=120                | ABNORMALITY          | 143                  | YES                  | 3.0                  | 1                    | 1                    | 3                    | Absent               | 50-60                | Normal               |\n",
       "| 55                   | FEMALE               | ASYMPTOMATIC         | 128                  | 205                  | <=120                | PROBABLE OR DEFINITE | 130                  | YES                  | 2.0                  | 1                    | 1                    | 3                    | Absent               | 50-60                | Normal               |\n",
       "| 61                   | MALE                 | ASYMPTOMATIC         | 148                  | 203                  | <=120                | ABNORMALITY          | 161                  | NO                   | 0.0                  | 2                    | 1                    | 3                    | Absent               | 60-70                | Very high            |\n",
       "| 58                   | MALE                 | ASYMPTOMATIC         | 114                  | 318                  | <=120                | PROBABLE OR DEFINITE | 140                  | NO                   | 4.4                  | 0                    | 3                    | 1                    | Absent               | 50-60                | Normal               |\n",
       "| 58                   | FEMALE               | ASYMPTOMATIC         | 170                  | 225                  | >120                 | NORMAL               | 146                  | YES                  | 2.8                  | 1                    | 2                    | 1                    | Absent               | 50-60                | >160 extreamly high  |\n",
       "| 67                   | MALE                 | NON-ANGINAL PAIN     | 152                  | 212                  | <=120                | NORMAL               | 150                  | NO                   | 0.8                  | 1                    | 0                    | 3                    | Absent               | 60-70                | Very high            |\n",
       "| 44                   | MALE                 | ASYMPTOMATIC         | 120                  | 169                  | <=120                | ABNORMALITY          | 144                  | YES                  | 2.8                  | 0                    | 0                    | 1                    | Absent               | 40-50                | Normal               |\n",
       "| 63                   | MALE                 | ASYMPTOMATIC         | 140                  | 187                  | <=120                | NORMAL               | 144                  | YES                  | 4.0                  | 2                    | 2                    | 3                    | Absent               | 60-70                | Moderately high      |\n",
       "| 63                   | FEMALE               | ASYMPTOMATIC         | 124                  | 197                  | <=120                | ABNORMALITY          | 136                  | YES                  | 0.0                  | 1                    | 0                    | 2                    | Absent               | 60-70                | Normal               |\n",
       "| 59                   | MALE                 | ASYMPTOMATIC         | 164                  | 176                  | >120                 | NORMAL               |  90                  | NO                   | 1.0                  | 1                    | 2                    | 1                    | Absent               | 50-60                | >160 extreamly high  |\n",
       "| 57                   | FEMALE               | ASYMPTOMATIC         | 140                  | 241                  | <=120                | ABNORMALITY          | 123                  | YES                  | 0.2                  | 1                    | 0                    | 3                    | Absent               | 50-60                | Moderately high      |\n",
       "| 45                   | MALE                 | ASYMPTOMATIC         | 110                  | 264                  | <=120                | ABNORMALITY          | 132                  | NO                   | 1.2                  | 1                    | 0                    | 3                    | Absent               | 40-50                | Normal               |\n",
       "| 68                   | MALE                 | ASYMPTOMATIC         | 144                  | 193                  | >120                 | ABNORMALITY          | 141                  | NO                   | 3.4                  | 1                    | 2                    | 3                    | Absent               | 60-70                | Very high            |\n",
       "| 57                   | MALE                 | ASYMPTOMATIC         | 130                  | 131                  | <=120                | ABNORMALITY          | 115                  | YES                  | 1.2                  | 1                    | 1                    | 3                    | Absent               | 50-60                | Normal               |\n",
       "| 57                   | FEMALE               | ATYPICAL ANGINA      | 130                  | 236                  | <=120                | NORMAL               | 174                  | NO                   | 0.0                  | 1                    | 1                    | 2                    | Absent               | 50-60                | Normal               |\n",
       "\n"
      ],
      "text/plain": [
       "    ï..age sex    cp               trestbps chol fbs   restecg             \n",
       "1   63     MALE   ASYMPTOMATIC     145      233  >120  NORMAL              \n",
       "2   37     MALE   NON-ANGINAL PAIN 130      250  <=120 ABNORMALITY         \n",
       "3   41     FEMALE ATYPICAL ANGINA  130      204  <=120 NORMAL              \n",
       "4   56     MALE   ATYPICAL ANGINA  120      236  <=120 ABNORMALITY         \n",
       "5   57     FEMALE ASYMPTOMATIC     120      354  <=120 ABNORMALITY         \n",
       "6   57     MALE   ASYMPTOMATIC     140      192  <=120 ABNORMALITY         \n",
       "7   56     FEMALE ATYPICAL ANGINA  140      294  <=120 NORMAL              \n",
       "8   44     MALE   ATYPICAL ANGINA  120      263  <=120 ABNORMALITY         \n",
       "9   52     MALE   NON-ANGINAL PAIN 172      199  >120  ABNORMALITY         \n",
       "10  57     MALE   NON-ANGINAL PAIN 150      168  <=120 ABNORMALITY         \n",
       "11  54     MALE   ASYMPTOMATIC     140      239  <=120 ABNORMALITY         \n",
       "12  48     FEMALE NON-ANGINAL PAIN 130      275  <=120 ABNORMALITY         \n",
       "13  49     MALE   ATYPICAL ANGINA  130      266  <=120 ABNORMALITY         \n",
       "14  64     MALE   ASYMPTOMATIC     110      211  <=120 NORMAL              \n",
       "15  58     FEMALE ASYMPTOMATIC     150      283  >120  NORMAL              \n",
       "16  50     FEMALE NON-ANGINAL PAIN 120      219  <=120 ABNORMALITY         \n",
       "17  58     FEMALE NON-ANGINAL PAIN 120      340  <=120 ABNORMALITY         \n",
       "18  66     FEMALE ASYMPTOMATIC     150      226  <=120 ABNORMALITY         \n",
       "19  43     MALE   ASYMPTOMATIC     150      247  <=120 ABNORMALITY         \n",
       "20  69     FEMALE ASYMPTOMATIC     140      239  <=120 ABNORMALITY         \n",
       "21  59     MALE   ASYMPTOMATIC     135      234  <=120 ABNORMALITY         \n",
       "22  44     MALE   NON-ANGINAL PAIN 130      233  <=120 ABNORMALITY         \n",
       "23  42     MALE   ASYMPTOMATIC     140      226  <=120 ABNORMALITY         \n",
       "24  61     MALE   NON-ANGINAL PAIN 150      243  >120  ABNORMALITY         \n",
       "25  40     MALE   ASYMPTOMATIC     140      199  <=120 ABNORMALITY         \n",
       "26  71     FEMALE ATYPICAL ANGINA  160      302  <=120 ABNORMALITY         \n",
       "27  59     MALE   NON-ANGINAL PAIN 150      212  >120  ABNORMALITY         \n",
       "28  51     MALE   NON-ANGINAL PAIN 110      175  <=120 ABNORMALITY         \n",
       "29  65     FEMALE NON-ANGINAL PAIN 140      417  >120  NORMAL              \n",
       "30  53     MALE   NON-ANGINAL PAIN 130      197  >120  NORMAL              \n",
       "... ...    ...    ...              ...      ...  ...   ...                 \n",
       "274 58     MALE   ASYMPTOMATIC     100      234  <=120 ABNORMALITY         \n",
       "275 47     MALE   ASYMPTOMATIC     110      275  <=120 NORMAL              \n",
       "276 52     MALE   ASYMPTOMATIC     125      212  <=120 ABNORMALITY         \n",
       "277 58     MALE   ASYMPTOMATIC     146      218  <=120 ABNORMALITY         \n",
       "278 57     MALE   ATYPICAL ANGINA  124      261  <=120 ABNORMALITY         \n",
       "279 58     FEMALE ATYPICAL ANGINA  136      319  >120  NORMAL              \n",
       "280 61     MALE   ASYMPTOMATIC     138      166  <=120 NORMAL              \n",
       "281 42     MALE   ASYMPTOMATIC     136      315  <=120 ABNORMALITY         \n",
       "282 52     MALE   ASYMPTOMATIC     128      204  >120  ABNORMALITY         \n",
       "283 59     MALE   NON-ANGINAL PAIN 126      218  >120  ABNORMALITY         \n",
       "284 40     MALE   ASYMPTOMATIC     152      223  <=120 ABNORMALITY         \n",
       "285 61     MALE   ASYMPTOMATIC     140      207  <=120 NORMAL              \n",
       "286 46     MALE   ASYMPTOMATIC     140      311  <=120 ABNORMALITY         \n",
       "287 59     MALE   ASYMPTOMATIC     134      204  <=120 ABNORMALITY         \n",
       "288 57     MALE   ATYPICAL ANGINA  154      232  <=120 NORMAL              \n",
       "289 57     MALE   ASYMPTOMATIC     110      335  <=120 ABNORMALITY         \n",
       "290 55     FEMALE ASYMPTOMATIC     128      205  <=120 PROBABLE OR DEFINITE\n",
       "291 61     MALE   ASYMPTOMATIC     148      203  <=120 ABNORMALITY         \n",
       "292 58     MALE   ASYMPTOMATIC     114      318  <=120 PROBABLE OR DEFINITE\n",
       "293 58     FEMALE ASYMPTOMATIC     170      225  >120  NORMAL              \n",
       "294 67     MALE   NON-ANGINAL PAIN 152      212  <=120 NORMAL              \n",
       "295 44     MALE   ASYMPTOMATIC     120      169  <=120 ABNORMALITY         \n",
       "296 63     MALE   ASYMPTOMATIC     140      187  <=120 NORMAL              \n",
       "297 63     FEMALE ASYMPTOMATIC     124      197  <=120 ABNORMALITY         \n",
       "298 59     MALE   ASYMPTOMATIC     164      176  >120  NORMAL              \n",
       "299 57     FEMALE ASYMPTOMATIC     140      241  <=120 ABNORMALITY         \n",
       "300 45     MALE   ASYMPTOMATIC     110      264  <=120 ABNORMALITY         \n",
       "301 68     MALE   ASYMPTOMATIC     144      193  >120  ABNORMALITY         \n",
       "302 57     MALE   ASYMPTOMATIC     130      131  <=120 ABNORMALITY         \n",
       "303 57     FEMALE ATYPICAL ANGINA  130      236  <=120 NORMAL              \n",
       "    thalach exang oldpeak slope ca  thal target  age_bar   resting_bps        \n",
       "1   150     NO    2.3     0     0   1    Present 60-70     Very high          \n",
       "2   187     NO    3.5     0     0   2    Present 30-40     Normal             \n",
       "3   172     NO    1.4     2     0   2    Present 40-50     Normal             \n",
       "4   178     NO    0.8     2     0   2    Present 50-60     Normal             \n",
       "5   163     YES   0.6     2     0   2    Present 50-60     Normal             \n",
       "6   148     NO    0.4     1     0   1    Present 50-60     Moderately high    \n",
       "7   153     NO    1.3     1     0   2    Present 50-60     Moderately high    \n",
       "8   173     NO    0.0     2     0   3    Present 40-50     Normal             \n",
       "9   162     NO    0.5     2     0   3    Present 50-60     >160 extreamly high\n",
       "10  174     NO    1.6     2     0   2    Present 50-60     Very high          \n",
       "11  160     NO    1.2     2     0   2    Present 50-60     Moderately high    \n",
       "12  139     NO    0.2     2     0   2    Present 40-50     Normal             \n",
       "13  171     NO    0.6     2     0   2    Present 40-50     Normal             \n",
       "14  144     YES   1.8     1     0   2    Present 60-70     Normal             \n",
       "15  162     NO    1.0     2     0   2    Present 50-60     Very high          \n",
       "16  158     NO    1.6     1     0   2    Present 40-50     Normal             \n",
       "17  172     NO    0.0     2     0   2    Present 50-60     Normal             \n",
       "18  114     NO    2.6     0     0   2    Present 60-70     Very high          \n",
       "19  171     NO    1.5     2     0   2    Present 40-50     Very high          \n",
       "20  151     NO    1.8     2     2   2    Present 60-70     Moderately high    \n",
       "21  161     NO    0.5     1     0   3    Present 50-60     Moderately high    \n",
       "22  179     YES   0.4     2     0   2    Present 40-50     Normal             \n",
       "23  178     NO    0.0     2     0   2    Present 40-50     Moderately high    \n",
       "24  137     YES   1.0     1     0   2    Present 60-70     Very high          \n",
       "25  178     YES   1.4     2     0   3    Present 30-40     Moderately high    \n",
       "26  162     NO    0.4     2     2   2    Present >70 years Very high          \n",
       "27  157     NO    1.6     2     0   2    Present 50-60     Very high          \n",
       "28  123     NO    0.6     2     0   2    Present 50-60     Normal             \n",
       "29  157     NO    0.8     2     1   2    Present 60-70     Moderately high    \n",
       "30  152     NO    1.2     0     0   2    Present 50-60     Normal             \n",
       "... ...     ...   ...     ...   ... ...  ...     ...       ...                \n",
       "274 156     NO    0.1     2     1   3    Absent  50-60     Normal             \n",
       "275 118     YES   1.0     1     1   2    Absent  40-50     Normal             \n",
       "276 168     NO    1.0     2     2   3    Absent  50-60     Normal             \n",
       "277 105     NO    2.0     1     1   3    Absent  50-60     Very high          \n",
       "278 141     NO    0.3     2     0   3    Absent  50-60     Normal             \n",
       "279 152     NO    0.0     2     2   2    Absent  50-60     Moderately high    \n",
       "280 125     YES   3.6     1     1   2    Absent  60-70     Moderately high    \n",
       "281 125     YES   1.8     1     0   1    Absent  40-50     Moderately high    \n",
       "282 156     YES   1.0     1     0   0    Absent  50-60     Normal             \n",
       "283 134     NO    2.2     1     1   1    Absent  50-60     Normal             \n",
       "284 181     NO    0.0     2     0   3    Absent  30-40     Very high          \n",
       "285 138     YES   1.9     2     1   3    Absent  60-70     Moderately high    \n",
       "286 120     YES   1.8     1     2   3    Absent  40-50     Moderately high    \n",
       "287 162     NO    0.8     2     2   2    Absent  50-60     Moderately high    \n",
       "288 164     NO    0.0     2     1   2    Absent  50-60     Very high          \n",
       "289 143     YES   3.0     1     1   3    Absent  50-60     Normal             \n",
       "290 130     YES   2.0     1     1   3    Absent  50-60     Normal             \n",
       "291 161     NO    0.0     2     1   3    Absent  60-70     Very high          \n",
       "292 140     NO    4.4     0     3   1    Absent  50-60     Normal             \n",
       "293 146     YES   2.8     1     2   1    Absent  50-60     >160 extreamly high\n",
       "294 150     NO    0.8     1     0   3    Absent  60-70     Very high          \n",
       "295 144     YES   2.8     0     0   1    Absent  40-50     Normal             \n",
       "296 144     YES   4.0     2     2   3    Absent  60-70     Moderately high    \n",
       "297 136     YES   0.0     1     0   2    Absent  60-70     Normal             \n",
       "298  90     NO    1.0     1     2   1    Absent  50-60     >160 extreamly high\n",
       "299 123     YES   0.2     1     0   3    Absent  50-60     Moderately high    \n",
       "300 132     NO    1.2     1     0   3    Absent  40-50     Normal             \n",
       "301 141     NO    3.4     1     2   3    Absent  60-70     Very high          \n",
       "302 115     YES   1.2     1     1   3    Absent  50-60     Normal             \n",
       "303 174     NO    0.0     1     1   2    Absent  50-60     Normal             "
      ]
     },
     "metadata": {},
     "output_type": "display_data"
    }
   ],
   "source": [
    "resting_bp"
   ]
  },
  {
   "cell_type": "code",
   "execution_count": 98,
   "id": "3d824097",
   "metadata": {},
   "outputs": [
    {
     "ename": "ERROR",
     "evalue": "Error in table(dep, indep): all arguments must have the same length\n",
     "output_type": "error",
     "traceback": [
      "Error in table(dep, indep): all arguments must have the same length\nTraceback:\n",
      "1. crosstab(resting_bp$resting_bps, heart_data$disease, prop.r = T, \n .     plot = FALSE)",
      "2. table(dep, indep)",
      "3. stop(\"all arguments must have the same length\")"
     ]
    },
    {
     "data": {
      "image/png": "[encoded data removed]",
      "text/plain": [
       "plot without title"
      ]
     },
     "metadata": {},
     "output_type": "display_data"
    }
   ],
   "source": [
    "resting_bp %>%\n",
    "  ggplot(aes(x=resting_bps,fill=target))+ \n",
    "  geom_bar()+ ggtitle(\"Presence & Absence of Heart Disease\")\n",
    "crosstab(resting_bp$resting_bps,heart_data$disease,prop.r = T,plot = FALSE)"
   ]
  },
  {
   "cell_type": "code",
   "execution_count": null,
   "id": "6620e605",
   "metadata": {},
   "outputs": [],
   "source": [
    "# Cholestrol\n",
    "ggplot(heart_data, aes(chol, fill=target)) +\n",
    "  geom_histogram(binwidth=10) +\n",
    " ggtitle(\"Presence & Absence of Heart Disease\")"
   ]
  },
  {
   "cell_type": "code",
   "execution_count": 99,
   "id": "3492fe3e",
   "metadata": {},
   "outputs": [
    {
     "ename": "ERROR",
     "evalue": "Error in table(dep, indep): all arguments must have the same length\n",
     "output_type": "error",
     "traceback": [
      "Error in table(dep, indep): all arguments must have the same length\nTraceback:\n",
      "1. crosstab(heart_data$fbs, heart_data$disease, prop.r = T, plot = FALSE)",
      "2. table(dep, indep)",
      "3. stop(\"all arguments must have the same length\")"
     ]
    },
    {
     "data": {
      "image/png": "[encoded data removed]",
      "text/plain": [
       "plot without title"
      ]
     },
     "metadata": {},
     "output_type": "display_data"
    }
   ],
   "source": [
    "heart_data$fbs=as.factor(heart_data$fbs)\n",
    "ggplot(heart_data, aes(fbs, fill=target)) +\n",
    "  geom_bar() + ggtitle(\"Presence & Absence of Heart Disease\")\n",
    "\n",
    "\n",
    "crosstab(heart_data$fbs,heart_data$disease,prop.r = T,plot = FALSE)\n"
   ]
  },
  {
   "cell_type": "markdown",
   "id": "c1daead0",
   "metadata": {},
   "source": [
    "There is no concluding evidence about the sugar level effect on heart disease."
   ]
  },
  {
   "cell_type": "code",
   "execution_count": 100,
   "id": "b749f212",
   "metadata": {},
   "outputs": [
    {
     "ename": "ERROR",
     "evalue": "Error in table(dep, indep): all arguments must have the same length\n",
     "output_type": "error",
     "traceback": [
      "Error in table(dep, indep): all arguments must have the same length\nTraceback:\n",
      "1. crosstab(heart_data$ca, heart_data$disease, prop.r = T, plot = FALSE)",
      "2. table(dep, indep)",
      "3. stop(\"all arguments must have the same length\")"
     ]
    },
    {
     "data": {
      "image/png": "[encoded data removed]",
      "text/plain": [
       "plot without title"
      ]
     },
     "metadata": {},
     "output_type": "display_data"
    }
   ],
   "source": [
    "#ca\n",
    "#This feature refers to the number of narrow blood vessels seen\n",
    "\n",
    "ggplot(heart_data, aes(ca, fill=target)) +\n",
    "  geom_bar() + ggtitle(\"Presence & Absence of Heart Disease\")\n",
    "\n",
    "crosstab(heart_data$ca,heart_data$disease,prop.r = T,plot = FALSE)\n",
    "\n"
   ]
  },
  {
   "cell_type": "code",
   "execution_count": null,
   "id": "af407e6a",
   "metadata": {},
   "outputs": [],
   "source": [
    "# Corelation between independent variable\n",
    "library(corrplot)\n",
    "corr_heart= heart_data[,sapply(heart_data,is.numeric)]\n",
    "str(corr_heart)\n",
    "cor(corr_heart)"
   ]
  },
  {
   "cell_type": "code",
   "execution_count": null,
   "id": "2e9de012",
   "metadata": {},
   "outputs": [],
   "source": []
  },
  {
   "cell_type": "markdown",
   "id": "156a8250",
   "metadata": {},
   "source": [
    "# Model Building\n"
   ]
  },
  {
   "cell_type": "code",
   "execution_count": 101,
   "id": "53a4a654",
   "metadata": {},
   "outputs": [],
   "source": [
    "library(caret)"
   ]
  },
  {
   "cell_type": "markdown",
   "id": "fbaaa909",
   "metadata": {},
   "source": [
    "TraindataRows = createDataPartition(heart_data$target, p=0.7, list= FALSE)\n",
    "trainData = heart_data[TraindataRows,]\n",
    "testData = heart_data[-TraindataRows,]"
   ]
  },
  {
   "cell_type": "code",
   "execution_count": 102,
   "id": "dba0f89c",
   "metadata": {},
   "outputs": [],
   "source": [
    "AUC = list()\n",
    "Accuracy = list()"
   ]
  },
  {
   "cell_type": "markdown",
   "id": "d9cba4be",
   "metadata": {},
   "source": [
    "Logistics Regression"
   ]
  },
  {
   "cell_type": "code",
   "execution_count": 103,
   "id": "8682eb43",
   "metadata": {},
   "outputs": [
    {
     "name": "stdout",
     "output_type": "stream",
     "text": [
      "\n",
      "  There is a binary version available but the source version is later:\n",
      "      binary source needs_compilation\n",
      "e1071  1.7-6 1.7-11              TRUE\n",
      "\n",
      "  Binaries will be installed\n",
      "package 'e1071' successfully unpacked and MD5 sums checked\n"
     ]
    },
    {
     "name": "stderr",
     "output_type": "stream",
     "text": [
      "Warning message:\n",
      "\"cannot remove prior installation of package 'e1071'\"Warning message in file.copy(savedcopy, lib, recursive = TRUE):\n",
      "\"problem copying G:\\Anaconda\\envs\\Rprograming\\Lib\\R\\library\\00LOCK\\e1071\\libs\\x64\\e1071.dll to G:\\Anaconda\\envs\\Rprograming\\Lib\\R\\library\\e1071\\libs\\x64\\e1071.dll: Permission denied\"Warning message:\n",
      "\"restored 'e1071'\""
     ]
    },
    {
     "name": "stdout",
     "output_type": "stream",
     "text": [
      "\n",
      "The downloaded binary packages are in\n",
      "\tC:\\Users\\e015tx\\AppData\\Local\\Temp\\Rtmp6hpCc8\\downloaded_packages\n"
     ]
    }
   ],
   "source": [
    "install.packages('e1071', dependencies = TRUE)"
   ]
  },
  {
   "cell_type": "code",
   "execution_count": 104,
   "id": "134e8cab",
   "metadata": {},
   "outputs": [
    {
     "name": "stdout",
     "output_type": "stream",
     "text": [
      "\n",
      "  There is a binary version available but the source version is later:\n",
      "       binary source needs_compilation\n",
      "pROC 1.17.0.1 1.18.0              TRUE\n",
      "\n",
      "  Binaries will be installed\n"
     ]
    },
    {
     "name": "stderr",
     "output_type": "stream",
     "text": [
      "Warning message:\n",
      "\"package 'pROC' is in use and will not be installed\""
     ]
    }
   ],
   "source": [
    "install.packages(\"pROC\")"
   ]
  },
  {
   "cell_type": "code",
   "execution_count": 105,
   "id": "64c3ceb2",
   "metadata": {},
   "outputs": [
    {
     "name": "stderr",
     "output_type": "stream",
     "text": [
      "Warning message in predict.lm(object, newdata, se.fit, scale = 1, type = if (type == :\n",
      "\"prediction from a rank-deficient fit may be misleading\"Warning message in predict.lm(object, newdata, se.fit, scale = 1, type = if (type == :\n",
      "\"prediction from a rank-deficient fit may be misleading\"Warning message in predict.lm(object, newdata, se.fit, scale = 1, type = if (type == :\n",
      "\"prediction from a rank-deficient fit may be misleading\"Warning message in predict.lm(object, newdata, se.fit, scale = 1, type = if (type == :\n",
      "\"prediction from a rank-deficient fit may be misleading\"Warning message in predict.lm(object, newdata, se.fit, scale = 1, type = if (type == :\n",
      "\"prediction from a rank-deficient fit may be misleading\"Warning message in predict.lm(object, newdata, se.fit, scale = 1, type = if (type == :\n",
      "\"prediction from a rank-deficient fit may be misleading\"Warning message in predict.lm(object, newdata, se.fit, scale = 1, type = if (type == :\n",
      "\"prediction from a rank-deficient fit may be misleading\"Warning message in predict.lm(object, newdata, se.fit, scale = 1, type = if (type == :\n",
      "\"prediction from a rank-deficient fit may be misleading\"Warning message in predict.lm(object, newdata, se.fit, scale = 1, type = if (type == :\n",
      "\"prediction from a rank-deficient fit may be misleading\"Warning message in predict.lm(object, newdata, se.fit, scale = 1, type = if (type == :\n",
      "\"prediction from a rank-deficient fit may be misleading\"Warning message in predict.lm(object, newdata, se.fit, scale = 1, type = if (type == :\n",
      "\"prediction from a rank-deficient fit may be misleading\"Warning message in predict.lm(object, newdata, se.fit, scale = 1, type = if (type == :\n",
      "\"prediction from a rank-deficient fit may be misleading\"Warning message in predict.lm(object, newdata, se.fit, scale = 1, type = if (type == :\n",
      "\"prediction from a rank-deficient fit may be misleading\"Warning message in predict.lm(object, newdata, se.fit, scale = 1, type = if (type == :\n",
      "\"prediction from a rank-deficient fit may be misleading\"Warning message in predict.lm(object, newdata, se.fit, scale = 1, type = if (type == :\n",
      "\"prediction from a rank-deficient fit may be misleading\"Warning message in predict.lm(object, newdata, se.fit, scale = 1, type = if (type == :\n",
      "\"prediction from a rank-deficient fit may be misleading\"Warning message in predict.lm(object, newdata, se.fit, scale = 1, type = if (type == :\n",
      "\"prediction from a rank-deficient fit may be misleading\"Warning message in predict.lm(object, newdata, se.fit, scale = 1, type = if (type == :\n",
      "\"prediction from a rank-deficient fit may be misleading\"Warning message:\n",
      "\"glm.fit: fitted probabilities numerically 0 or 1 occurred\"Warning message in predict.lm(object, newdata, se.fit, scale = 1, type = if (type == :\n",
      "\"prediction from a rank-deficient fit may be misleading\"Warning message in predict.lm(object, newdata, se.fit, scale = 1, type = if (type == :\n",
      "\"prediction from a rank-deficient fit may be misleading\"Warning message in predict.lm(object, newdata, se.fit, scale = 1, type = if (type == :\n",
      "\"prediction from a rank-deficient fit may be misleading\"Warning message in predict.lm(object, newdata, se.fit, scale = 1, type = if (type == :\n",
      "\"prediction from a rank-deficient fit may be misleading\"Warning message in predict.lm(object, newdata, se.fit, scale = 1, type = if (type == :\n",
      "\"prediction from a rank-deficient fit may be misleading\"Warning message in predict.lm(object, newdata, se.fit, scale = 1, type = if (type == :\n",
      "\"prediction from a rank-deficient fit may be misleading\"Warning message in predict.lm(object, newdata, se.fit, scale = 1, type = if (type == :\n",
      "\"prediction from a rank-deficient fit may be misleading\"Warning message in predict.lm(object, newdata, se.fit, scale = 1, type = if (type == :\n",
      "\"prediction from a rank-deficient fit may be misleading\"Warning message in predict.lm(object, newdata, se.fit, scale = 1, type = if (type == :\n",
      "\"prediction from a rank-deficient fit may be misleading\"Setting levels: control = 1, case = 2\n",
      "Setting direction: controls < cases\n"
     ]
    }
   ],
   "source": [
    "set.seed(10)\n",
    "logRegModel = train(target ~ ., data=trainData, method = 'glm', family = 'binomial')\n",
    "logRegPrediction = predict(logRegModel, testData)\n",
    "logRegPredictionprob = predict(logRegModel, testData, type='prob')[2]\n",
    "logRegConfMat = confusionMatrix(logRegPrediction, testData[,\"target\"])\n",
    "#ROC Curve\n",
    "library(pROC)\n",
    "AUC$logReg = roc(as.numeric(testData$target),as.numeric(as.matrix((logRegPredictionprob))))$auc\n",
    "Accuracy$logReg = logRegConfMat$overall['Accuracy']"
   ]
  },
  {
   "cell_type": "code",
   "execution_count": 106,
   "id": "2a516307",
   "metadata": {},
   "outputs": [
    {
     "name": "stdout",
     "output_type": "stream",
     "text": [
      "\n",
      "  There is a binary version available but the source version is later:\n",
      "        binary source needs_compilation\n",
      "kernlab 0.9-29 0.9-31              TRUE\n",
      "\n",
      "  Binaries will be installed\n",
      "package 'kernlab' successfully unpacked and MD5 sums checked\n"
     ]
    },
    {
     "name": "stderr",
     "output_type": "stream",
     "text": [
      "Warning message:\n",
      "\"cannot remove prior installation of package 'kernlab'\"Warning message in file.copy(savedcopy, lib, recursive = TRUE):\n",
      "\"problem copying G:\\Anaconda\\envs\\Rprograming\\Lib\\R\\library\\00LOCK\\kernlab\\libs\\x64\\kernlab.dll to G:\\Anaconda\\envs\\Rprograming\\Lib\\R\\library\\kernlab\\libs\\x64\\kernlab.dll: Permission denied\"Warning message:\n",
      "\"restored 'kernlab'\""
     ]
    },
    {
     "name": "stdout",
     "output_type": "stream",
     "text": [
      "\n",
      "The downloaded binary packages are in\n",
      "\tC:\\Users\\e015tx\\AppData\\Local\\Temp\\Rtmp6hpCc8\\downloaded_packages\n"
     ]
    },
    {
     "name": "stderr",
     "output_type": "stream",
     "text": [
      "Setting levels: control = 1, case = 2\n",
      "Setting direction: controls < cases\n"
     ]
    }
   ],
   "source": [
    "# Support Vector Machine\n",
    "\n",
    "\n",
    "install.packages('kernlab')\n",
    "fitControl = trainControl(method = \"repeatedcv\",\n",
    "                           number = 5,\n",
    "                           repeats = 5,\n",
    "                           ## Estimate class probabilities\n",
    "                           classProbs = TRUE,\n",
    "                           ## Evaluate performance using \n",
    "                           ## the following function\n",
    "                           summaryFunction = twoClassSummary)\n",
    "\n",
    "\n",
    "set.seed(10)\n",
    "svmModel = train(target ~ ., data = trainData,\n",
    "                  method = \"svmRadial\", \n",
    "                  trControl = fitControl ,\n",
    "                  preProcess = c(\"center\", \"scale\"),\n",
    "                  tunelength = 8,\n",
    "                  metric = \"ROC\")\n",
    "svmPrediction = predict(svmModel, testData)\n",
    "svmPredictionprob = predict(svmModel, testData, type='prob')[2]\n",
    "svmConfMat = confusionMatrix(svmPrediction, testData[,\"target\"])\n",
    "#ROC Curve\n",
    "library(pROC)\n",
    "AUC$svm = roc(as.numeric(testData$target),as.numeric(as.matrix((svmPredictionprob))))$auc\n",
    "Accuracy$svm = svmConfMat$overall['Accuracy']\n"
   ]
  },
  {
   "cell_type": "code",
   "execution_count": 107,
   "id": "d94fa07a",
   "metadata": {},
   "outputs": [
    {
     "name": "stderr",
     "output_type": "stream",
     "text": [
      "Setting levels: control = 1, case = 2\n",
      "Setting direction: controls < cases\n"
     ]
    }
   ],
   "source": [
    "# Random Forest\n",
    "library(randomForest)\n",
    "set.seed(10)\n",
    "RFModel = randomForest(target ~ .,\n",
    "                    data=trainData, \n",
    "                    importance=TRUE, \n",
    "                    ntree=200)\n",
    "#varImpPlot(RFModel)\n",
    "RFPrediction = predict(RFModel, testData)\n",
    "RFPredictionprob = predict(RFModel,testData,type=\"prob\")[, 2]\n",
    "\n",
    "RFConfMat = confusionMatrix(RFPrediction, testData[,\"target\"])\n",
    "\n",
    "AUC$RF = roc(as.numeric(testData$target),as.numeric(as.matrix((RFPredictionprob))))$auc\n",
    "Accuracy$RF = RFConfMat$overall['Accuracy']"
   ]
  },
  {
   "cell_type": "code",
   "execution_count": 108,
   "id": "88497d0d",
   "metadata": {},
   "outputs": [
    {
     "data": {
      "text/html": [
       "<table>\n",
       "<thead><tr><th></th><th scope=col>AUC</th><th scope=col>Accuracy</th></tr></thead>\n",
       "<tbody>\n",
       "\t<tr><th scope=row>logReg</th><td>0.9472374</td><td>0.8666667</td></tr>\n",
       "\t<tr><th scope=row>svm</th><td>0.9293181</td><td>0.8333333</td></tr>\n",
       "\t<tr><th scope=row>RF</th><td>0.9235938</td><td>0.8444444</td></tr>\n",
       "</tbody>\n",
       "</table>\n"
      ],
      "text/latex": [
       "\\begin{tabular}{r|ll}\n",
       "  & AUC & Accuracy\\\\\n",
       "\\hline\n",
       "\tlogReg & 0.9472374 & 0.8666667\\\\\n",
       "\tsvm & 0.9293181 & 0.8333333\\\\\n",
       "\tRF & 0.9235938 & 0.8444444\\\\\n",
       "\\end{tabular}\n"
      ],
      "text/markdown": [
       "\n",
       "| <!--/--> | AUC | Accuracy |\n",
       "|---|---|---|\n",
       "| logReg | 0.9472374 | 0.8666667 |\n",
       "| svm | 0.9293181 | 0.8333333 |\n",
       "| RF | 0.9235938 | 0.8444444 |\n",
       "\n"
      ],
      "text/plain": [
       "       AUC       Accuracy \n",
       "logReg 0.9472374 0.8666667\n",
       "svm    0.9293181 0.8333333\n",
       "RF     0.9235938 0.8444444"
      ]
     },
     "metadata": {},
     "output_type": "display_data"
    }
   ],
   "source": [
    "row.names = names(Accuracy)\n",
    "col.names = c(\"AUC\", \"Accuracy\")\n",
    "cbind(as.data.frame(matrix(c(AUC,Accuracy),nrow = 3, ncol = 2,\n",
    "                           dimnames = list(row.names, col.names))))"
   ]
  },
  {
   "cell_type": "code",
   "execution_count": 109,
   "id": "2c832bdd",
   "metadata": {},
   "outputs": [
    {
     "data": {
      "text/plain": [
       "Confusion Matrix and Statistics\n",
       "\n",
       "          Reference\n",
       "Prediction Absent Present\n",
       "   Absent      36       7\n",
       "   Present      5      42\n",
       "                                          \n",
       "               Accuracy : 0.8667          \n",
       "                 95% CI : (0.7787, 0.9292)\n",
       "    No Information Rate : 0.5444          \n",
       "    P-Value [Acc > NIR] : 6.754e-11       \n",
       "                                          \n",
       "                  Kappa : 0.7323          \n",
       "                                          \n",
       " Mcnemar's Test P-Value : 0.7728          \n",
       "                                          \n",
       "            Sensitivity : 0.8780          \n",
       "            Specificity : 0.8571          \n",
       "         Pos Pred Value : 0.8372          \n",
       "         Neg Pred Value : 0.8936          \n",
       "             Prevalence : 0.4556          \n",
       "         Detection Rate : 0.4000          \n",
       "   Detection Prevalence : 0.4778          \n",
       "      Balanced Accuracy : 0.8676          \n",
       "                                          \n",
       "       'Positive' Class : Absent          \n",
       "                                          "
      ]
     },
     "metadata": {},
     "output_type": "display_data"
    }
   ],
   "source": [
    "logRegConfMat"
   ]
  },
  {
   "cell_type": "markdown",
   "id": "29e39c7b",
   "metadata": {},
   "source": [
    "So here accuracy rate is 86 % which is quite good."
   ]
  },
  {
   "cell_type": "code",
   "execution_count": 110,
   "id": "56de9f76",
   "metadata": {},
   "outputs": [
    {
     "data": {
      "text/plain": [
       "Confusion Matrix and Statistics\n",
       "\n",
       "          Reference\n",
       "Prediction Absent Present\n",
       "   Absent      34       7\n",
       "   Present      7      42\n",
       "                                          \n",
       "               Accuracy : 0.8444          \n",
       "                 95% CI : (0.7528, 0.9123)\n",
       "    No Information Rate : 0.5444          \n",
       "    P-Value [Acc > NIR] : 1.629e-09       \n",
       "                                          \n",
       "                  Kappa : 0.6864          \n",
       "                                          \n",
       " Mcnemar's Test P-Value : 1               \n",
       "                                          \n",
       "            Sensitivity : 0.8293          \n",
       "            Specificity : 0.8571          \n",
       "         Pos Pred Value : 0.8293          \n",
       "         Neg Pred Value : 0.8571          \n",
       "             Prevalence : 0.4556          \n",
       "         Detection Rate : 0.3778          \n",
       "   Detection Prevalence : 0.4556          \n",
       "      Balanced Accuracy : 0.8432          \n",
       "                                          \n",
       "       'Positive' Class : Absent          \n",
       "                                          "
      ]
     },
     "metadata": {},
     "output_type": "display_data"
    }
   ],
   "source": [
    "RFConfMat\n"
   ]
  },
  {
   "cell_type": "code",
   "execution_count": 111,
   "id": "5fb0f22b",
   "metadata": {},
   "outputs": [
    {
     "data": {
      "text/plain": [
       "Confusion Matrix and Statistics\n",
       "\n",
       "          Reference\n",
       "Prediction Absent Present\n",
       "   Absent      35       9\n",
       "   Present      6      40\n",
       "                                        \n",
       "               Accuracy : 0.8333        \n",
       "                 95% CI : (0.74, 0.9036)\n",
       "    No Information Rate : 0.5444        \n",
       "    P-Value [Acc > NIR] : 7.067e-09     \n",
       "                                        \n",
       "                  Kappa : 0.666         \n",
       "                                        \n",
       " Mcnemar's Test P-Value : 0.6056        \n",
       "                                        \n",
       "            Sensitivity : 0.8537        \n",
       "            Specificity : 0.8163        \n",
       "         Pos Pred Value : 0.7955        \n",
       "         Neg Pred Value : 0.8696        \n",
       "             Prevalence : 0.4556        \n",
       "         Detection Rate : 0.3889        \n",
       "   Detection Prevalence : 0.4889        \n",
       "      Balanced Accuracy : 0.8350        \n",
       "                                        \n",
       "       'Positive' Class : Absent        \n",
       "                                        "
      ]
     },
     "metadata": {},
     "output_type": "display_data"
    }
   ],
   "source": [
    "svmConfMat"
   ]
  },
  {
   "cell_type": "markdown",
   "id": "d65d790c",
   "metadata": {},
   "source": [
    "# So here Logistic Regression model gives higest accuracy."
   ]
  },
  {
   "cell_type": "code",
   "execution_count": null,
   "id": "d1c2bf5c",
   "metadata": {},
   "outputs": [],
   "source": []
  },
  {
   "cell_type": "code",
   "execution_count": null,
   "id": "21cbc0b2",
   "metadata": {},
   "outputs": [],
   "source": []
  }
 ],
 "metadata": {
  "kernelspec": {
   "display_name": "R",
   "language": "R",
   "name": "ir"
  },
  "language_info": {
   "codemirror_mode": "r",
   "file_extension": ".r",
   "mimetype": "text/x-r-source",
   "name": "R",
   "pygments_lexer": "r",
   "version": "3.6.1"
  }
 },
 "nbformat": 4,
 "nbformat_minor": 5
}
